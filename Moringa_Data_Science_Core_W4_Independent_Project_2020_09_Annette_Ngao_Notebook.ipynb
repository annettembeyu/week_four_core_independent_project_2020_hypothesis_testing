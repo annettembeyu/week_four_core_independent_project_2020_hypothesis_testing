{
  "nbformat": 4,
  "nbformat_minor": 0,
  "metadata": {
    "colab": {
      "name": "Moringa_Data_Science_Core_W4_Independent_Project_2020_09_Annette_Ngao_Notebook",
      "provenance": [],
      "collapsed_sections": [
        "zSGyg6kWsBUl",
        "6XC_g-zKxe-r"
      ],
      "toc_visible": true,
      "include_colab_link": true
    },
    "kernelspec": {
      "name": "python3",
      "display_name": "Python 3"
    }
  },
  "cells": [
    {
      "cell_type": "markdown",
      "metadata": {
        "id": "view-in-github",
        "colab_type": "text"
      },
      "source": [
        "<a href=\"https://colab.research.google.com/github/annettembeyu/week_four_core_independent_project_2020_hypothesis_testing/blob/master/Moringa_Data_Science_Core_W4_Independent_Project_2020_09_Annette_Ngao_Notebook.ipynb\" target=\"_parent\"><img src=\"https://colab.research.google.com/assets/colab-badge.svg\" alt=\"Open In Colab\"/></a>"
      ]
    },
    {
      "cell_type": "markdown",
      "metadata": {
        "id": "xMxtPsqcTsSH",
        "colab_type": "text"
      },
      "source": [
        "# Exploratory Data Analysis"
      ]
    },
    {
      "cell_type": "markdown",
      "metadata": {
        "id": "kLG2VTrnTvYL",
        "colab_type": "text"
      },
      "source": [
        "## 1. Defining the Question"
      ]
    },
    {
      "cell_type": "markdown",
      "metadata": {
        "id": "XecOwPNorl2W",
        "colab_type": "text"
      },
      "source": [
        "### a) Specifying the Data Analytic Question"
      ]
    },
    {
      "cell_type": "markdown",
      "metadata": {
        "id": "fZOpvz6fWyFa",
        "colab_type": "text"
      },
      "source": [
        "*  To find out generally between weekends and weekdays when are the blue cars mostly demanded by customers.\n",
        "*  To find out which month had more Blue cars demanded by customers.\n",
        "*  To see if there is any correlation between the blue cars taken and the blue cars returned.\n",
        "*   To determine the trend of the demand for blue cars for the first half and to make a prediction for the second half of the year.\n",
        "\n",
        "\n",
        "\n",
        "For hypothesis testing:\n",
        "\n",
        "**hypothesis 1**\n",
        "\n",
        " **Null hypothesis**: average number of cars taken on monday is the same as the average number of cars taken on friday\n",
        "\n",
        " **Alternative hypothesis**: average number of cars taken on monday is not the same as the average number of cars taken on friday.\n",
        "\n",
        "**hypothesis 2**\n",
        "\n",
        "**Null hypothesis**: the average number of cars taken on weekdays in postal code 75015 is the same as the average number of cars taken in postal code 75017.\n",
        "\n",
        "**Alternative hypothesis**: the average number of cars taken in postal code 75015 is not the same as the average number of cars taken in postal code 75017."
      ]
    },
    {
      "cell_type": "markdown",
      "metadata": {
        "id": "J4wfHZwQrs-t",
        "colab_type": "text"
      },
      "source": [
        "### b) Defining the Metric for Success"
      ]
    },
    {
      "cell_type": "markdown",
      "metadata": {
        "id": "-S0rkoK9TNbv",
        "colab_type": "text"
      },
      "source": [
        "The objectives for this analysis will have been met when:\n",
        "\n",
        "*   determine the general trend for the demand for cars which day of the week has more demand to enable come up with ways to improve demand even further.\n",
        "*   conclusion of the hypotheses is accuragtely done at a 95% confidence interval.\n",
        "*   perhaps be able to predict the demand for the car in the second half of the year."
      ]
    },
    {
      "cell_type": "markdown",
      "metadata": {
        "id": "a9BPYqunry97",
        "colab_type": "text"
      },
      "source": [
        "### c) Understanding the context "
      ]
    },
    {
      "cell_type": "markdown",
      "metadata": {
        "id": "M7u3wRk-Ufn-",
        "colab_type": "text"
      },
      "source": [
        "The dataset for this research is about information on electric car sharing by Autolib company for different makes of car for the first half of 2016. It aslo contains the number of cars taken as well as the number cars that were returned.\n",
        "\n",
        "My focus in my study will be on the Bluecars and the time frame of focus will be during the week days to see the number of cars taken compare with others and if there is any significant result at all.\n",
        "\n",
        "\n"
      ]
    },
    {
      "cell_type": "markdown",
      "metadata": {
        "id": "7KMRBJ7zr9HD",
        "colab_type": "text"
      },
      "source": [
        "### d) Recording the Experimental Design"
      ]
    },
    {
      "cell_type": "markdown",
      "metadata": {
        "id": "bvxLiyz3YXRi",
        "colab_type": "text"
      },
      "source": [
        "\n",
        "\n",
        "1.   Loading the data\n",
        "2.   Checking the data for:\n",
        "\n",
        "        *  Number of records in the dataset\n",
        "        *  Preview top records in the dataset\n",
        "        *  Preview the bottom records in the dataset\n",
        "        *  Appropriateness of the datatype of the variables in each columns\n",
        "3.   External Data Source Validation\n",
        "        * Valiation\n",
        "4.   Tidying the Dataset:\n",
        "        * Identifying missing values\n",
        "        * Check for anomalies\n",
        "        * Deal with missing data\n",
        "        * More data cleaning procedure\n",
        "5.   Exploratory Analysis\n",
        "        * Ploting the univariate summaries and recording our observations"
      ]
    },
    {
      "cell_type": "markdown",
      "metadata": {
        "id": "zSGyg6kWsBUl",
        "colab_type": "text"
      },
      "source": [
        "### e) Data Relevance"
      ]
    },
    {
      "cell_type": "markdown",
      "metadata": {
        "id": "iUNbvIvnT7ep",
        "colab_type": "text"
      },
      "source": [
        "## 2. Reading the Data"
      ]
    },
    {
      "cell_type": "code",
      "metadata": {
        "id": "XJn2KjW-WMlG",
        "colab_type": "code",
        "colab": {
          "base_uri": "https://localhost:8080/",
          "height": 218
        },
        "outputId": "61049b5f-76fb-4638-8795-55b9a96889af"
      },
      "source": [
        "# Loading the Data  \n",
        "# ---\n",
        "# site url from which the data was obtained\n",
        "# http://bit.ly/DSCoreAutolibDataset\n",
        "# ---\n",
        "#\n",
        "import datetime\n",
        "import pandas as pd\n",
        "import numpy as np\n",
        "import seaborn as sns\n",
        "import matplotlib\n",
        "from matplotlib import pyplot as plt\n",
        "import scipy.stats as stats\n",
        "from scipy.stats import norm\n",
        "from scipy.stats import shapiro\n",
        "from statsmodels.stats import weightstats as stests\n",
        "from sklearn.preprocessing import StandardScaler\n",
        "sns.set(color_codes=True)\n",
        "%matplotlib inline\n",
        "auto_df = pd.read_csv('http://bit.ly/DSCoreAutolibDataset')\n",
        "#renaming the columns\n",
        "auto_df.columns= ['Postal_code', 'Date', 'no_of_daily_data_points', 'Day_Of_Week', 'Day_Type', 'BlueCars_taken_sum', 'BlueCars_returned_sum', 'Utilib_taken_sum', 'Utilib_returned_sum', 'Utilib_14_taken_sum', 'Utilib_14_returned_sum', 'Slots_freed_sum', 'Slots_taken_sum']\n",
        "auto_df.head()"
      ],
      "execution_count": null,
      "outputs": [
        {
          "output_type": "execute_result",
          "data": {
            "text/html": [
              "<div>\n",
              "<style scoped>\n",
              "    .dataframe tbody tr th:only-of-type {\n",
              "        vertical-align: middle;\n",
              "    }\n",
              "\n",
              "    .dataframe tbody tr th {\n",
              "        vertical-align: top;\n",
              "    }\n",
              "\n",
              "    .dataframe thead th {\n",
              "        text-align: right;\n",
              "    }\n",
              "</style>\n",
              "<table border=\"1\" class=\"dataframe\">\n",
              "  <thead>\n",
              "    <tr style=\"text-align: right;\">\n",
              "      <th></th>\n",
              "      <th>Postal_code</th>\n",
              "      <th>Date</th>\n",
              "      <th>no_of_daily_data_points</th>\n",
              "      <th>Day_Of_Week</th>\n",
              "      <th>Day_Type</th>\n",
              "      <th>BlueCars_taken_sum</th>\n",
              "      <th>BlueCars_returned_sum</th>\n",
              "      <th>Utilib_taken_sum</th>\n",
              "      <th>Utilib_returned_sum</th>\n",
              "      <th>Utilib_14_taken_sum</th>\n",
              "      <th>Utilib_14_returned_sum</th>\n",
              "      <th>Slots_freed_sum</th>\n",
              "      <th>Slots_taken_sum</th>\n",
              "    </tr>\n",
              "  </thead>\n",
              "  <tbody>\n",
              "    <tr>\n",
              "      <th>0</th>\n",
              "      <td>75001</td>\n",
              "      <td>1/1/2018</td>\n",
              "      <td>1440</td>\n",
              "      <td>0</td>\n",
              "      <td>weekday</td>\n",
              "      <td>110</td>\n",
              "      <td>103</td>\n",
              "      <td>3</td>\n",
              "      <td>2</td>\n",
              "      <td>10</td>\n",
              "      <td>9</td>\n",
              "      <td>22</td>\n",
              "      <td>20</td>\n",
              "    </tr>\n",
              "    <tr>\n",
              "      <th>1</th>\n",
              "      <td>75001</td>\n",
              "      <td>1/2/2018</td>\n",
              "      <td>1438</td>\n",
              "      <td>1</td>\n",
              "      <td>weekday</td>\n",
              "      <td>98</td>\n",
              "      <td>94</td>\n",
              "      <td>1</td>\n",
              "      <td>1</td>\n",
              "      <td>8</td>\n",
              "      <td>8</td>\n",
              "      <td>23</td>\n",
              "      <td>22</td>\n",
              "    </tr>\n",
              "    <tr>\n",
              "      <th>2</th>\n",
              "      <td>75001</td>\n",
              "      <td>1/3/2018</td>\n",
              "      <td>1439</td>\n",
              "      <td>2</td>\n",
              "      <td>weekday</td>\n",
              "      <td>138</td>\n",
              "      <td>139</td>\n",
              "      <td>0</td>\n",
              "      <td>0</td>\n",
              "      <td>2</td>\n",
              "      <td>2</td>\n",
              "      <td>27</td>\n",
              "      <td>27</td>\n",
              "    </tr>\n",
              "    <tr>\n",
              "      <th>3</th>\n",
              "      <td>75001</td>\n",
              "      <td>1/4/2018</td>\n",
              "      <td>1320</td>\n",
              "      <td>3</td>\n",
              "      <td>weekday</td>\n",
              "      <td>104</td>\n",
              "      <td>104</td>\n",
              "      <td>2</td>\n",
              "      <td>2</td>\n",
              "      <td>9</td>\n",
              "      <td>8</td>\n",
              "      <td>25</td>\n",
              "      <td>21</td>\n",
              "    </tr>\n",
              "    <tr>\n",
              "      <th>4</th>\n",
              "      <td>75001</td>\n",
              "      <td>1/5/2018</td>\n",
              "      <td>1440</td>\n",
              "      <td>4</td>\n",
              "      <td>weekday</td>\n",
              "      <td>114</td>\n",
              "      <td>117</td>\n",
              "      <td>3</td>\n",
              "      <td>3</td>\n",
              "      <td>6</td>\n",
              "      <td>6</td>\n",
              "      <td>18</td>\n",
              "      <td>20</td>\n",
              "    </tr>\n",
              "  </tbody>\n",
              "</table>\n",
              "</div>"
            ],
            "text/plain": [
              "   Postal_code      Date  ...  Slots_freed_sum  Slots_taken_sum\n",
              "0        75001  1/1/2018  ...               22               20\n",
              "1        75001  1/2/2018  ...               23               22\n",
              "2        75001  1/3/2018  ...               27               27\n",
              "3        75001  1/4/2018  ...               25               21\n",
              "4        75001  1/5/2018  ...               18               20\n",
              "\n",
              "[5 rows x 13 columns]"
            ]
          },
          "metadata": {
            "tags": []
          },
          "execution_count": 91
        }
      ]
    },
    {
      "cell_type": "code",
      "metadata": {
        "id": "sn2HMUddTjRR",
        "colab_type": "code",
        "colab": {
          "base_uri": "https://localhost:8080/",
          "height": 438
        },
        "outputId": "dc8b06ce-b174-4ecd-9009-51e3c4e2ccd6"
      },
      "source": [
        "# importing the file containing the description of the columns as well\n",
        "\n",
        "data_description = pd.read_excel('columns_explanation.xlsx')\n",
        "data_description"
      ],
      "execution_count": null,
      "outputs": [
        {
          "output_type": "execute_result",
          "data": {
            "text/html": [
              "<div>\n",
              "<style scoped>\n",
              "    .dataframe tbody tr th:only-of-type {\n",
              "        vertical-align: middle;\n",
              "    }\n",
              "\n",
              "    .dataframe tbody tr th {\n",
              "        vertical-align: top;\n",
              "    }\n",
              "\n",
              "    .dataframe thead th {\n",
              "        text-align: right;\n",
              "    }\n",
              "</style>\n",
              "<table border=\"1\" class=\"dataframe\">\n",
              "  <thead>\n",
              "    <tr style=\"text-align: right;\">\n",
              "      <th></th>\n",
              "      <th>Column name</th>\n",
              "      <th>explanation</th>\n",
              "    </tr>\n",
              "  </thead>\n",
              "  <tbody>\n",
              "    <tr>\n",
              "      <th>0</th>\n",
              "      <td>Postal code</td>\n",
              "      <td>postal code of the area (in Paris)</td>\n",
              "    </tr>\n",
              "    <tr>\n",
              "      <th>1</th>\n",
              "      <td>date</td>\n",
              "      <td>date of the row aggregation</td>\n",
              "    </tr>\n",
              "    <tr>\n",
              "      <th>2</th>\n",
              "      <td>n_daily_data_points</td>\n",
              "      <td>number of daily data poinst that were availabl...</td>\n",
              "    </tr>\n",
              "    <tr>\n",
              "      <th>3</th>\n",
              "      <td>dayOfWeek</td>\n",
              "      <td>identifier of weekday (0: Monday -&gt; 6: Sunday)</td>\n",
              "    </tr>\n",
              "    <tr>\n",
              "      <th>4</th>\n",
              "      <td>day_type</td>\n",
              "      <td>weekday or weekend</td>\n",
              "    </tr>\n",
              "    <tr>\n",
              "      <th>5</th>\n",
              "      <td>BlueCars_taken_sum</td>\n",
              "      <td>Number of bluecars taken that date in that area</td>\n",
              "    </tr>\n",
              "    <tr>\n",
              "      <th>6</th>\n",
              "      <td>BlueCars_returned_sum</td>\n",
              "      <td>Number of bluecars returned that date in that ...</td>\n",
              "    </tr>\n",
              "    <tr>\n",
              "      <th>7</th>\n",
              "      <td>Utilib_taken_sum</td>\n",
              "      <td>Number of Utilib taken that date in that area</td>\n",
              "    </tr>\n",
              "    <tr>\n",
              "      <th>8</th>\n",
              "      <td>Utilib_returned_sum</td>\n",
              "      <td>Number of Utilib returned that date in that area</td>\n",
              "    </tr>\n",
              "    <tr>\n",
              "      <th>9</th>\n",
              "      <td>Utilib_14_taken_sum</td>\n",
              "      <td>Number of Utilib 1.4 taken that date in that area</td>\n",
              "    </tr>\n",
              "    <tr>\n",
              "      <th>10</th>\n",
              "      <td>Utilib_14_returned_sum</td>\n",
              "      <td>Number of Utilib 1.4 returned that date in tha...</td>\n",
              "    </tr>\n",
              "    <tr>\n",
              "      <th>11</th>\n",
              "      <td>Slots_freed_sum</td>\n",
              "      <td>Number of recharging slots released that date ...</td>\n",
              "    </tr>\n",
              "    <tr>\n",
              "      <th>12</th>\n",
              "      <td>Slots_taken_sum</td>\n",
              "      <td>Number of rechargign slots taken that date in ...</td>\n",
              "    </tr>\n",
              "  </tbody>\n",
              "</table>\n",
              "</div>"
            ],
            "text/plain": [
              "               Column name                                        explanation\n",
              "0              Postal code                 postal code of the area (in Paris)\n",
              "1                     date                        date of the row aggregation\n",
              "2      n_daily_data_points  number of daily data poinst that were availabl...\n",
              "3                dayOfWeek     identifier of weekday (0: Monday -> 6: Sunday)\n",
              "4                 day_type                                 weekday or weekend\n",
              "5       BlueCars_taken_sum    Number of bluecars taken that date in that area\n",
              "6    BlueCars_returned_sum  Number of bluecars returned that date in that ...\n",
              "7         Utilib_taken_sum      Number of Utilib taken that date in that area\n",
              "8      Utilib_returned_sum   Number of Utilib returned that date in that area\n",
              "9      Utilib_14_taken_sum  Number of Utilib 1.4 taken that date in that area\n",
              "10  Utilib_14_returned_sum  Number of Utilib 1.4 returned that date in tha...\n",
              "11         Slots_freed_sum  Number of recharging slots released that date ...\n",
              "12         Slots_taken_sum  Number of rechargign slots taken that date in ..."
            ]
          },
          "metadata": {
            "tags": []
          },
          "execution_count": 26
        }
      ]
    },
    {
      "cell_type": "markdown",
      "metadata": {
        "id": "OI3P3YnHUEBk",
        "colab_type": "text"
      },
      "source": [
        "## 3. Checking the Data"
      ]
    },
    {
      "cell_type": "code",
      "metadata": {
        "id": "YjSVNwgptHxY",
        "colab_type": "code",
        "colab": {
          "base_uri": "https://localhost:8080/",
          "height": 35
        },
        "outputId": "d49072b6-d95e-4b9d-a16e-117296e3c702"
      },
      "source": [
        "# Finding the no. of records in the dataset\n",
        "#\n",
        "print(auto_df.shape)\n",
        "\n",
        "# the dataset has (16,085 rows and 13 columns)"
      ],
      "execution_count": null,
      "outputs": [
        {
          "output_type": "stream",
          "text": [
            "(16085, 13)\n"
          ],
          "name": "stdout"
        }
      ]
    },
    {
      "cell_type": "code",
      "metadata": {
        "id": "xHhTw5eKWr0n",
        "colab_type": "code",
        "colab": {
          "base_uri": "https://localhost:8080/",
          "height": 368
        },
        "outputId": "9315a80f-d098-451e-b9f6-b616265ea001"
      },
      "source": [
        "# Previewing the top of the dataset\n",
        "#\n",
        "auto_df.head(10)"
      ],
      "execution_count": null,
      "outputs": [
        {
          "output_type": "execute_result",
          "data": {
            "text/html": [
              "<div>\n",
              "<style scoped>\n",
              "    .dataframe tbody tr th:only-of-type {\n",
              "        vertical-align: middle;\n",
              "    }\n",
              "\n",
              "    .dataframe tbody tr th {\n",
              "        vertical-align: top;\n",
              "    }\n",
              "\n",
              "    .dataframe thead th {\n",
              "        text-align: right;\n",
              "    }\n",
              "</style>\n",
              "<table border=\"1\" class=\"dataframe\">\n",
              "  <thead>\n",
              "    <tr style=\"text-align: right;\">\n",
              "      <th></th>\n",
              "      <th>Postal_code</th>\n",
              "      <th>Date</th>\n",
              "      <th>no_of_daily_data_points</th>\n",
              "      <th>Day_Of_Week</th>\n",
              "      <th>Day_Type</th>\n",
              "      <th>BlueCars_taken_sum</th>\n",
              "      <th>BlueCars_returned_sum</th>\n",
              "      <th>Utilib_taken_sum</th>\n",
              "      <th>Utilib_returned_sum</th>\n",
              "      <th>Utilib_14_taken_sum</th>\n",
              "      <th>Utilib_14_returned_sum</th>\n",
              "      <th>Slots_freed_sum</th>\n",
              "      <th>Slots_taken_sum</th>\n",
              "    </tr>\n",
              "  </thead>\n",
              "  <tbody>\n",
              "    <tr>\n",
              "      <th>0</th>\n",
              "      <td>75001</td>\n",
              "      <td>1/1/2018</td>\n",
              "      <td>1440</td>\n",
              "      <td>0</td>\n",
              "      <td>weekday</td>\n",
              "      <td>110</td>\n",
              "      <td>103</td>\n",
              "      <td>3</td>\n",
              "      <td>2</td>\n",
              "      <td>10</td>\n",
              "      <td>9</td>\n",
              "      <td>22</td>\n",
              "      <td>20</td>\n",
              "    </tr>\n",
              "    <tr>\n",
              "      <th>1</th>\n",
              "      <td>75001</td>\n",
              "      <td>1/2/2018</td>\n",
              "      <td>1438</td>\n",
              "      <td>1</td>\n",
              "      <td>weekday</td>\n",
              "      <td>98</td>\n",
              "      <td>94</td>\n",
              "      <td>1</td>\n",
              "      <td>1</td>\n",
              "      <td>8</td>\n",
              "      <td>8</td>\n",
              "      <td>23</td>\n",
              "      <td>22</td>\n",
              "    </tr>\n",
              "    <tr>\n",
              "      <th>2</th>\n",
              "      <td>75001</td>\n",
              "      <td>1/3/2018</td>\n",
              "      <td>1439</td>\n",
              "      <td>2</td>\n",
              "      <td>weekday</td>\n",
              "      <td>138</td>\n",
              "      <td>139</td>\n",
              "      <td>0</td>\n",
              "      <td>0</td>\n",
              "      <td>2</td>\n",
              "      <td>2</td>\n",
              "      <td>27</td>\n",
              "      <td>27</td>\n",
              "    </tr>\n",
              "    <tr>\n",
              "      <th>3</th>\n",
              "      <td>75001</td>\n",
              "      <td>1/4/2018</td>\n",
              "      <td>1320</td>\n",
              "      <td>3</td>\n",
              "      <td>weekday</td>\n",
              "      <td>104</td>\n",
              "      <td>104</td>\n",
              "      <td>2</td>\n",
              "      <td>2</td>\n",
              "      <td>9</td>\n",
              "      <td>8</td>\n",
              "      <td>25</td>\n",
              "      <td>21</td>\n",
              "    </tr>\n",
              "    <tr>\n",
              "      <th>4</th>\n",
              "      <td>75001</td>\n",
              "      <td>1/5/2018</td>\n",
              "      <td>1440</td>\n",
              "      <td>4</td>\n",
              "      <td>weekday</td>\n",
              "      <td>114</td>\n",
              "      <td>117</td>\n",
              "      <td>3</td>\n",
              "      <td>3</td>\n",
              "      <td>6</td>\n",
              "      <td>6</td>\n",
              "      <td>18</td>\n",
              "      <td>20</td>\n",
              "    </tr>\n",
              "    <tr>\n",
              "      <th>5</th>\n",
              "      <td>75001</td>\n",
              "      <td>1/6/2018</td>\n",
              "      <td>1437</td>\n",
              "      <td>5</td>\n",
              "      <td>weekend</td>\n",
              "      <td>187</td>\n",
              "      <td>185</td>\n",
              "      <td>6</td>\n",
              "      <td>6</td>\n",
              "      <td>7</td>\n",
              "      <td>8</td>\n",
              "      <td>38</td>\n",
              "      <td>35</td>\n",
              "    </tr>\n",
              "    <tr>\n",
              "      <th>6</th>\n",
              "      <td>75001</td>\n",
              "      <td>1/7/2018</td>\n",
              "      <td>1440</td>\n",
              "      <td>6</td>\n",
              "      <td>weekend</td>\n",
              "      <td>180</td>\n",
              "      <td>180</td>\n",
              "      <td>2</td>\n",
              "      <td>2</td>\n",
              "      <td>10</td>\n",
              "      <td>9</td>\n",
              "      <td>34</td>\n",
              "      <td>34</td>\n",
              "    </tr>\n",
              "    <tr>\n",
              "      <th>7</th>\n",
              "      <td>75001</td>\n",
              "      <td>1/8/2018</td>\n",
              "      <td>1438</td>\n",
              "      <td>0</td>\n",
              "      <td>weekday</td>\n",
              "      <td>84</td>\n",
              "      <td>83</td>\n",
              "      <td>3</td>\n",
              "      <td>3</td>\n",
              "      <td>10</td>\n",
              "      <td>10</td>\n",
              "      <td>14</td>\n",
              "      <td>15</td>\n",
              "    </tr>\n",
              "    <tr>\n",
              "      <th>8</th>\n",
              "      <td>75001</td>\n",
              "      <td>1/9/2018</td>\n",
              "      <td>1439</td>\n",
              "      <td>1</td>\n",
              "      <td>weekday</td>\n",
              "      <td>81</td>\n",
              "      <td>84</td>\n",
              "      <td>1</td>\n",
              "      <td>1</td>\n",
              "      <td>4</td>\n",
              "      <td>4</td>\n",
              "      <td>15</td>\n",
              "      <td>15</td>\n",
              "    </tr>\n",
              "    <tr>\n",
              "      <th>9</th>\n",
              "      <td>75001</td>\n",
              "      <td>1/10/2018</td>\n",
              "      <td>1440</td>\n",
              "      <td>2</td>\n",
              "      <td>weekday</td>\n",
              "      <td>88</td>\n",
              "      <td>85</td>\n",
              "      <td>5</td>\n",
              "      <td>5</td>\n",
              "      <td>11</td>\n",
              "      <td>11</td>\n",
              "      <td>23</td>\n",
              "      <td>22</td>\n",
              "    </tr>\n",
              "  </tbody>\n",
              "</table>\n",
              "</div>"
            ],
            "text/plain": [
              "   Postal_code       Date  ...  Slots_freed_sum  Slots_taken_sum\n",
              "0        75001   1/1/2018  ...               22               20\n",
              "1        75001   1/2/2018  ...               23               22\n",
              "2        75001   1/3/2018  ...               27               27\n",
              "3        75001   1/4/2018  ...               25               21\n",
              "4        75001   1/5/2018  ...               18               20\n",
              "5        75001   1/6/2018  ...               38               35\n",
              "6        75001   1/7/2018  ...               34               34\n",
              "7        75001   1/8/2018  ...               14               15\n",
              "8        75001   1/9/2018  ...               15               15\n",
              "9        75001  1/10/2018  ...               23               22\n",
              "\n",
              "[10 rows x 13 columns]"
            ]
          },
          "metadata": {
            "tags": []
          },
          "execution_count": 28
        }
      ]
    },
    {
      "cell_type": "code",
      "metadata": {
        "id": "e9AzGcZFrIIr",
        "colab_type": "code",
        "colab": {
          "base_uri": "https://localhost:8080/",
          "height": 368
        },
        "outputId": "4cfb6919-93f3-40e2-992f-8514c564b8d1"
      },
      "source": [
        "# Previewing the bottom of the dataset\n",
        "# \n",
        "auto_df.tail(10)"
      ],
      "execution_count": null,
      "outputs": [
        {
          "output_type": "execute_result",
          "data": {
            "text/html": [
              "<div>\n",
              "<style scoped>\n",
              "    .dataframe tbody tr th:only-of-type {\n",
              "        vertical-align: middle;\n",
              "    }\n",
              "\n",
              "    .dataframe tbody tr th {\n",
              "        vertical-align: top;\n",
              "    }\n",
              "\n",
              "    .dataframe thead th {\n",
              "        text-align: right;\n",
              "    }\n",
              "</style>\n",
              "<table border=\"1\" class=\"dataframe\">\n",
              "  <thead>\n",
              "    <tr style=\"text-align: right;\">\n",
              "      <th></th>\n",
              "      <th>Postal_code</th>\n",
              "      <th>Date</th>\n",
              "      <th>no_of_daily_data_points</th>\n",
              "      <th>Day_Of_Week</th>\n",
              "      <th>Day_Type</th>\n",
              "      <th>BlueCars_taken_sum</th>\n",
              "      <th>BlueCars_returned_sum</th>\n",
              "      <th>Utilib_taken_sum</th>\n",
              "      <th>Utilib_returned_sum</th>\n",
              "      <th>Utilib_14_taken_sum</th>\n",
              "      <th>Utilib_14_returned_sum</th>\n",
              "      <th>Slots_freed_sum</th>\n",
              "      <th>Slots_taken_sum</th>\n",
              "    </tr>\n",
              "  </thead>\n",
              "  <tbody>\n",
              "    <tr>\n",
              "      <th>16075</th>\n",
              "      <td>95880</td>\n",
              "      <td>6/10/2018</td>\n",
              "      <td>1440</td>\n",
              "      <td>6</td>\n",
              "      <td>weekend</td>\n",
              "      <td>34</td>\n",
              "      <td>32</td>\n",
              "      <td>0</td>\n",
              "      <td>0</td>\n",
              "      <td>1</td>\n",
              "      <td>0</td>\n",
              "      <td>0</td>\n",
              "      <td>0</td>\n",
              "    </tr>\n",
              "    <tr>\n",
              "      <th>16076</th>\n",
              "      <td>95880</td>\n",
              "      <td>6/11/2018</td>\n",
              "      <td>1440</td>\n",
              "      <td>0</td>\n",
              "      <td>weekday</td>\n",
              "      <td>17</td>\n",
              "      <td>18</td>\n",
              "      <td>0</td>\n",
              "      <td>0</td>\n",
              "      <td>0</td>\n",
              "      <td>0</td>\n",
              "      <td>0</td>\n",
              "      <td>0</td>\n",
              "    </tr>\n",
              "    <tr>\n",
              "      <th>16077</th>\n",
              "      <td>95880</td>\n",
              "      <td>6/12/2018</td>\n",
              "      <td>1439</td>\n",
              "      <td>1</td>\n",
              "      <td>weekday</td>\n",
              "      <td>25</td>\n",
              "      <td>25</td>\n",
              "      <td>0</td>\n",
              "      <td>0</td>\n",
              "      <td>0</td>\n",
              "      <td>0</td>\n",
              "      <td>0</td>\n",
              "      <td>0</td>\n",
              "    </tr>\n",
              "    <tr>\n",
              "      <th>16078</th>\n",
              "      <td>95880</td>\n",
              "      <td>6/13/2018</td>\n",
              "      <td>1440</td>\n",
              "      <td>2</td>\n",
              "      <td>weekday</td>\n",
              "      <td>12</td>\n",
              "      <td>13</td>\n",
              "      <td>0</td>\n",
              "      <td>0</td>\n",
              "      <td>1</td>\n",
              "      <td>1</td>\n",
              "      <td>0</td>\n",
              "      <td>0</td>\n",
              "    </tr>\n",
              "    <tr>\n",
              "      <th>16079</th>\n",
              "      <td>95880</td>\n",
              "      <td>6/14/2018</td>\n",
              "      <td>1439</td>\n",
              "      <td>3</td>\n",
              "      <td>weekday</td>\n",
              "      <td>15</td>\n",
              "      <td>13</td>\n",
              "      <td>0</td>\n",
              "      <td>0</td>\n",
              "      <td>0</td>\n",
              "      <td>0</td>\n",
              "      <td>0</td>\n",
              "      <td>0</td>\n",
              "    </tr>\n",
              "    <tr>\n",
              "      <th>16080</th>\n",
              "      <td>95880</td>\n",
              "      <td>6/15/2018</td>\n",
              "      <td>1440</td>\n",
              "      <td>4</td>\n",
              "      <td>weekday</td>\n",
              "      <td>15</td>\n",
              "      <td>10</td>\n",
              "      <td>0</td>\n",
              "      <td>0</td>\n",
              "      <td>2</td>\n",
              "      <td>3</td>\n",
              "      <td>0</td>\n",
              "      <td>0</td>\n",
              "    </tr>\n",
              "    <tr>\n",
              "      <th>16081</th>\n",
              "      <td>95880</td>\n",
              "      <td>6/16/2018</td>\n",
              "      <td>1440</td>\n",
              "      <td>5</td>\n",
              "      <td>weekend</td>\n",
              "      <td>19</td>\n",
              "      <td>19</td>\n",
              "      <td>0</td>\n",
              "      <td>0</td>\n",
              "      <td>2</td>\n",
              "      <td>1</td>\n",
              "      <td>0</td>\n",
              "      <td>0</td>\n",
              "    </tr>\n",
              "    <tr>\n",
              "      <th>16082</th>\n",
              "      <td>95880</td>\n",
              "      <td>6/17/2018</td>\n",
              "      <td>1440</td>\n",
              "      <td>6</td>\n",
              "      <td>weekend</td>\n",
              "      <td>33</td>\n",
              "      <td>35</td>\n",
              "      <td>1</td>\n",
              "      <td>1</td>\n",
              "      <td>0</td>\n",
              "      <td>0</td>\n",
              "      <td>0</td>\n",
              "      <td>0</td>\n",
              "    </tr>\n",
              "    <tr>\n",
              "      <th>16083</th>\n",
              "      <td>95880</td>\n",
              "      <td>6/18/2018</td>\n",
              "      <td>1440</td>\n",
              "      <td>0</td>\n",
              "      <td>weekday</td>\n",
              "      <td>11</td>\n",
              "      <td>14</td>\n",
              "      <td>3</td>\n",
              "      <td>5</td>\n",
              "      <td>2</td>\n",
              "      <td>2</td>\n",
              "      <td>0</td>\n",
              "      <td>0</td>\n",
              "    </tr>\n",
              "    <tr>\n",
              "      <th>16084</th>\n",
              "      <td>95880</td>\n",
              "      <td>6/19/2018</td>\n",
              "      <td>1370</td>\n",
              "      <td>1</td>\n",
              "      <td>weekday</td>\n",
              "      <td>2</td>\n",
              "      <td>2</td>\n",
              "      <td>2</td>\n",
              "      <td>1</td>\n",
              "      <td>0</td>\n",
              "      <td>0</td>\n",
              "      <td>0</td>\n",
              "      <td>0</td>\n",
              "    </tr>\n",
              "  </tbody>\n",
              "</table>\n",
              "</div>"
            ],
            "text/plain": [
              "       Postal_code       Date  ...  Slots_freed_sum  Slots_taken_sum\n",
              "16075        95880  6/10/2018  ...                0                0\n",
              "16076        95880  6/11/2018  ...                0                0\n",
              "16077        95880  6/12/2018  ...                0                0\n",
              "16078        95880  6/13/2018  ...                0                0\n",
              "16079        95880  6/14/2018  ...                0                0\n",
              "16080        95880  6/15/2018  ...                0                0\n",
              "16081        95880  6/16/2018  ...                0                0\n",
              "16082        95880  6/17/2018  ...                0                0\n",
              "16083        95880  6/18/2018  ...                0                0\n",
              "16084        95880  6/19/2018  ...                0                0\n",
              "\n",
              "[10 rows x 13 columns]"
            ]
          },
          "metadata": {
            "tags": []
          },
          "execution_count": 29
        }
      ]
    },
    {
      "cell_type": "code",
      "metadata": {
        "id": "nP8NldbfADq9",
        "colab_type": "code",
        "colab": {
          "base_uri": "https://localhost:8080/",
          "height": 368
        },
        "outputId": "d7bc5a36-c070-4c92-923a-7c9a699688dd"
      },
      "source": [
        "# to display different rows from different parts of the dataframe\n",
        "\n",
        "auto_df.sample(10)"
      ],
      "execution_count": null,
      "outputs": [
        {
          "output_type": "execute_result",
          "data": {
            "text/html": [
              "<div>\n",
              "<style scoped>\n",
              "    .dataframe tbody tr th:only-of-type {\n",
              "        vertical-align: middle;\n",
              "    }\n",
              "\n",
              "    .dataframe tbody tr th {\n",
              "        vertical-align: top;\n",
              "    }\n",
              "\n",
              "    .dataframe thead th {\n",
              "        text-align: right;\n",
              "    }\n",
              "</style>\n",
              "<table border=\"1\" class=\"dataframe\">\n",
              "  <thead>\n",
              "    <tr style=\"text-align: right;\">\n",
              "      <th></th>\n",
              "      <th>Postal_code</th>\n",
              "      <th>Date</th>\n",
              "      <th>no_of_daily_data_points</th>\n",
              "      <th>Day_Of_Week</th>\n",
              "      <th>Day_Type</th>\n",
              "      <th>BlueCars_taken_sum</th>\n",
              "      <th>BlueCars_returned_sum</th>\n",
              "      <th>Utilib_taken_sum</th>\n",
              "      <th>Utilib_returned_sum</th>\n",
              "      <th>Utilib_14_taken_sum</th>\n",
              "      <th>Utilib_14_returned_sum</th>\n",
              "      <th>Slots_freed_sum</th>\n",
              "      <th>Slots_taken_sum</th>\n",
              "    </tr>\n",
              "  </thead>\n",
              "  <tbody>\n",
              "    <tr>\n",
              "      <th>5305</th>\n",
              "      <td>92150</td>\n",
              "      <td>1/5/2018</td>\n",
              "      <td>1440</td>\n",
              "      <td>4</td>\n",
              "      <td>weekday</td>\n",
              "      <td>164</td>\n",
              "      <td>176</td>\n",
              "      <td>3</td>\n",
              "      <td>6</td>\n",
              "      <td>12</td>\n",
              "      <td>15</td>\n",
              "      <td>4</td>\n",
              "      <td>4</td>\n",
              "    </tr>\n",
              "    <tr>\n",
              "      <th>3033</th>\n",
              "      <td>75020</td>\n",
              "      <td>3/14/2018</td>\n",
              "      <td>1440</td>\n",
              "      <td>2</td>\n",
              "      <td>weekday</td>\n",
              "      <td>404</td>\n",
              "      <td>421</td>\n",
              "      <td>10</td>\n",
              "      <td>7</td>\n",
              "      <td>54</td>\n",
              "      <td>47</td>\n",
              "      <td>139</td>\n",
              "      <td>142</td>\n",
              "    </tr>\n",
              "    <tr>\n",
              "      <th>11433</th>\n",
              "      <td>93310</td>\n",
              "      <td>4/12/2018</td>\n",
              "      <td>1440</td>\n",
              "      <td>3</td>\n",
              "      <td>weekday</td>\n",
              "      <td>18</td>\n",
              "      <td>17</td>\n",
              "      <td>0</td>\n",
              "      <td>0</td>\n",
              "      <td>0</td>\n",
              "      <td>0</td>\n",
              "      <td>0</td>\n",
              "      <td>0</td>\n",
              "    </tr>\n",
              "    <tr>\n",
              "      <th>4673</th>\n",
              "      <td>92100</td>\n",
              "      <td>6/15/2018</td>\n",
              "      <td>1440</td>\n",
              "      <td>4</td>\n",
              "      <td>weekday</td>\n",
              "      <td>438</td>\n",
              "      <td>428</td>\n",
              "      <td>13</td>\n",
              "      <td>11</td>\n",
              "      <td>19</td>\n",
              "      <td>22</td>\n",
              "      <td>11</td>\n",
              "      <td>11</td>\n",
              "    </tr>\n",
              "    <tr>\n",
              "      <th>5145</th>\n",
              "      <td>92140</td>\n",
              "      <td>1/1/2018</td>\n",
              "      <td>1440</td>\n",
              "      <td>0</td>\n",
              "      <td>weekday</td>\n",
              "      <td>66</td>\n",
              "      <td>74</td>\n",
              "      <td>4</td>\n",
              "      <td>5</td>\n",
              "      <td>5</td>\n",
              "      <td>3</td>\n",
              "      <td>0</td>\n",
              "      <td>0</td>\n",
              "    </tr>\n",
              "    <tr>\n",
              "      <th>1512</th>\n",
              "      <td>75010</td>\n",
              "      <td>4/22/2018</td>\n",
              "      <td>1440</td>\n",
              "      <td>6</td>\n",
              "      <td>weekend</td>\n",
              "      <td>425</td>\n",
              "      <td>410</td>\n",
              "      <td>13</td>\n",
              "      <td>10</td>\n",
              "      <td>56</td>\n",
              "      <td>52</td>\n",
              "      <td>105</td>\n",
              "      <td>95</td>\n",
              "    </tr>\n",
              "    <tr>\n",
              "      <th>8324</th>\n",
              "      <td>92360</td>\n",
              "      <td>3/14/2018</td>\n",
              "      <td>1440</td>\n",
              "      <td>2</td>\n",
              "      <td>weekday</td>\n",
              "      <td>5</td>\n",
              "      <td>5</td>\n",
              "      <td>1</td>\n",
              "      <td>1</td>\n",
              "      <td>1</td>\n",
              "      <td>2</td>\n",
              "      <td>0</td>\n",
              "      <td>0</td>\n",
              "    </tr>\n",
              "    <tr>\n",
              "      <th>12169</th>\n",
              "      <td>93400</td>\n",
              "      <td>5/28/2018</td>\n",
              "      <td>1440</td>\n",
              "      <td>0</td>\n",
              "      <td>weekday</td>\n",
              "      <td>121</td>\n",
              "      <td>110</td>\n",
              "      <td>5</td>\n",
              "      <td>5</td>\n",
              "      <td>6</td>\n",
              "      <td>6</td>\n",
              "      <td>0</td>\n",
              "      <td>0</td>\n",
              "    </tr>\n",
              "    <tr>\n",
              "      <th>6694</th>\n",
              "      <td>92240</td>\n",
              "      <td>6/9/2018</td>\n",
              "      <td>1440</td>\n",
              "      <td>5</td>\n",
              "      <td>weekend</td>\n",
              "      <td>118</td>\n",
              "      <td>112</td>\n",
              "      <td>4</td>\n",
              "      <td>4</td>\n",
              "      <td>8</td>\n",
              "      <td>9</td>\n",
              "      <td>0</td>\n",
              "      <td>0</td>\n",
              "    </tr>\n",
              "    <tr>\n",
              "      <th>8233</th>\n",
              "      <td>92350</td>\n",
              "      <td>5/28/2018</td>\n",
              "      <td>1440</td>\n",
              "      <td>0</td>\n",
              "      <td>weekday</td>\n",
              "      <td>19</td>\n",
              "      <td>20</td>\n",
              "      <td>1</td>\n",
              "      <td>0</td>\n",
              "      <td>5</td>\n",
              "      <td>2</td>\n",
              "      <td>0</td>\n",
              "      <td>0</td>\n",
              "    </tr>\n",
              "  </tbody>\n",
              "</table>\n",
              "</div>"
            ],
            "text/plain": [
              "       Postal_code       Date  ...  Slots_freed_sum  Slots_taken_sum\n",
              "5305         92150   1/5/2018  ...                4                4\n",
              "3033         75020  3/14/2018  ...              139              142\n",
              "11433        93310  4/12/2018  ...                0                0\n",
              "4673         92100  6/15/2018  ...               11               11\n",
              "5145         92140   1/1/2018  ...                0                0\n",
              "1512         75010  4/22/2018  ...              105               95\n",
              "8324         92360  3/14/2018  ...                0                0\n",
              "12169        93400  5/28/2018  ...                0                0\n",
              "6694         92240   6/9/2018  ...                0                0\n",
              "8233         92350  5/28/2018  ...                0                0\n",
              "\n",
              "[10 rows x 13 columns]"
            ]
          },
          "metadata": {
            "tags": []
          },
          "execution_count": 30
        }
      ]
    },
    {
      "cell_type": "code",
      "metadata": {
        "id": "n8-dW4sQWzbc",
        "colab_type": "code",
        "colab": {
          "base_uri": "https://localhost:8080/",
          "height": 635
        },
        "outputId": "c8f2964e-ecd3-4597-e06e-07c634290326"
      },
      "source": [
        "# Checking for unique value and whether each column has an appropriate datatype\n",
        "#\n",
        "print(auto_df.nunique())\n",
        "auto_df.info()"
      ],
      "execution_count": null,
      "outputs": [
        {
          "output_type": "stream",
          "text": [
            "Postal_code                104\n",
            "Date                       156\n",
            "no_of_daily_data_points     23\n",
            "Day_Of_Week                  7\n",
            "Day_Type                     2\n",
            "BlueCars_taken_sum         932\n",
            "BlueCars_returned_sum      929\n",
            "Utilib_taken_sum            48\n",
            "Utilib_returned_sum         49\n",
            "Utilib_14_taken_sum         92\n",
            "Utilib_14_returned_sum      94\n",
            "Slots_freed_sum            297\n",
            "Slots_taken_sum            301\n",
            "dtype: int64\n",
            "<class 'pandas.core.frame.DataFrame'>\n",
            "RangeIndex: 16085 entries, 0 to 16084\n",
            "Data columns (total 13 columns):\n",
            " #   Column                   Non-Null Count  Dtype \n",
            "---  ------                   --------------  ----- \n",
            " 0   Postal_code              16085 non-null  int64 \n",
            " 1   Date                     16085 non-null  object\n",
            " 2   no_of_daily_data_points  16085 non-null  int64 \n",
            " 3   Day_Of_Week              16085 non-null  int64 \n",
            " 4   Day_Type                 16085 non-null  object\n",
            " 5   BlueCars_taken_sum       16085 non-null  int64 \n",
            " 6   BlueCars_returned_sum    16085 non-null  int64 \n",
            " 7   Utilib_taken_sum         16085 non-null  int64 \n",
            " 8   Utilib_returned_sum      16085 non-null  int64 \n",
            " 9   Utilib_14_taken_sum      16085 non-null  int64 \n",
            " 10  Utilib_14_returned_sum   16085 non-null  int64 \n",
            " 11  Slots_freed_sum          16085 non-null  int64 \n",
            " 12  Slots_taken_sum          16085 non-null  int64 \n",
            "dtypes: int64(11), object(2)\n",
            "memory usage: 1.6+ MB\n"
          ],
          "name": "stdout"
        }
      ]
    },
    {
      "cell_type": "code",
      "metadata": {
        "id": "d4HfurvIl-SQ",
        "colab_type": "code",
        "colab": {
          "base_uri": "https://localhost:8080/",
          "height": 272
        },
        "outputId": "1e523670-4e9f-41c7-a76c-d7ca222be8ea"
      },
      "source": [
        "#checking for data types\n",
        "auto_df.dtypes"
      ],
      "execution_count": null,
      "outputs": [
        {
          "output_type": "execute_result",
          "data": {
            "text/plain": [
              "Postal_code                 int64\n",
              "Date                       object\n",
              "no_of_daily_data_points     int64\n",
              "Day_Of_Week                 int64\n",
              "Day_Type                   object\n",
              "BlueCars_taken_sum          int64\n",
              "BlueCars_returned_sum       int64\n",
              "Utilib_taken_sum            int64\n",
              "Utilib_returned_sum         int64\n",
              "Utilib_14_taken_sum         int64\n",
              "Utilib_14_returned_sum      int64\n",
              "Slots_freed_sum             int64\n",
              "Slots_taken_sum             int64\n",
              "dtype: object"
            ]
          },
          "metadata": {
            "tags": []
          },
          "execution_count": 32
        }
      ]
    },
    {
      "cell_type": "code",
      "metadata": {
        "id": "iEagVCIAR29W",
        "colab_type": "code",
        "colab": {
          "base_uri": "https://localhost:8080/",
          "height": 1000
        },
        "outputId": "34944abe-e0af-4055-c0d2-a46a818b1231"
      },
      "source": [
        "# printing out the particuar unique values in each of the columns in the data\n",
        "for x in auto_df.columns:\n",
        "    print(x,auto_df[x].unique())\n",
        "    print('--------------------------------------------------------------------------------')"
      ],
      "execution_count": null,
      "outputs": [
        {
          "output_type": "stream",
          "text": [
            "Postal_code [75001 75002 75003 75004 75005 75006 75007 75008 75009 75010 75011 75012\n",
            " 75013 75014 75015 75016 75017 75018 75019 75020 75112 75116 78000 78140\n",
            " 78150 91330 91370 91400 92000 92100 92110 92120 92130 92140 92150 92160\n",
            " 92170 92190 92200 92210 92220 92230 92240 92250 92260 92270 92290 92300\n",
            " 92310 92320 92330 92340 92350 92360 92370 92380 92390 92400 92410 92420\n",
            " 92500 92600 92700 92800 93100 93110 93130 93150 93170 93200 93230 93260\n",
            " 93300 93310 93350 93360 93370 93390 93400 93440 93500 93600 93700 93800\n",
            " 94000 94100 94110 94120 94130 94140 94150 94160 94220 94230 94300 94340\n",
            " 94410 94450 94500 94700 94800 95100 95870 95880]\n",
            "--------------------------------------------------------------------------------\n",
            "Date ['1/1/2018' '1/2/2018' '1/3/2018' '1/4/2018' '1/5/2018' '1/6/2018'\n",
            " '1/7/2018' '1/8/2018' '1/9/2018' '1/10/2018' '1/11/2018' '1/12/2018'\n",
            " '1/13/2018' '1/14/2018' '1/15/2018' '1/16/2018' '1/17/2018' '1/18/2018'\n",
            " '1/19/2018' '1/20/2018' '1/21/2018' '1/22/2018' '1/23/2018' '1/24/2018'\n",
            " '1/25/2018' '1/26/2018' '1/27/2018' '1/28/2018' '1/29/2018' '1/30/2018'\n",
            " '1/31/2018' '2/1/2018' '2/2/2018' '2/3/2018' '2/4/2018' '2/5/2018'\n",
            " '2/6/2018' '2/7/2018' '2/8/2018' '2/9/2018' '2/10/2018' '2/11/2018'\n",
            " '2/12/2018' '2/13/2018' '2/14/2018' '2/15/2018' '2/16/2018' '2/17/2018'\n",
            " '2/18/2018' '2/19/2018' '2/20/2018' '2/21/2018' '2/22/2018' '2/23/2018'\n",
            " '2/24/2018' '2/28/2018' '3/1/2018' '3/2/2018' '3/3/2018' '3/4/2018'\n",
            " '3/5/2018' '3/6/2018' '3/7/2018' '3/8/2018' '3/9/2018' '3/10/2018'\n",
            " '3/11/2018' '3/12/2018' '3/13/2018' '3/14/2018' '3/15/2018' '3/16/2018'\n",
            " '3/17/2018' '3/18/2018' '3/19/2018' '3/20/2018' '3/21/2018' '3/22/2018'\n",
            " '3/23/2018' '3/24/2018' '3/25/2018' '3/26/2018' '3/27/2018' '3/28/2018'\n",
            " '3/29/2018' '3/30/2018' '3/31/2018' '4/1/2018' '4/2/2018' '4/3/2018'\n",
            " '4/4/2018' '4/5/2018' '4/6/2018' '4/7/2018' '4/8/2018' '4/9/2018'\n",
            " '4/10/2018' '4/11/2018' '4/12/2018' '4/13/2018' '4/14/2018' '4/15/2018'\n",
            " '4/16/2018' '4/17/2018' '4/18/2018' '4/19/2018' '4/20/2018' '4/21/2018'\n",
            " '4/22/2018' '4/23/2018' '4/24/2018' '4/25/2018' '4/26/2018' '4/27/2018'\n",
            " '4/28/2018' '4/29/2018' '4/30/2018' '5/1/2018' '5/2/2018' '5/3/2018'\n",
            " '5/4/2018' '5/5/2018' '5/6/2018' '5/7/2018' '5/8/2018' '5/20/2018'\n",
            " '5/21/2018' '5/22/2018' '5/23/2018' '5/24/2018' '5/25/2018' '5/26/2018'\n",
            " '5/27/2018' '5/28/2018' '5/29/2018' '5/30/2018' '5/31/2018' '6/1/2018'\n",
            " '6/2/2018' '6/3/2018' '6/4/2018' '6/5/2018' '6/6/2018' '6/7/2018'\n",
            " '6/8/2018' '6/9/2018' '6/10/2018' '6/11/2018' '6/12/2018' '6/13/2018'\n",
            " '6/14/2018' '6/15/2018' '6/16/2018' '6/17/2018' '6/18/2018' '6/19/2018']\n",
            "--------------------------------------------------------------------------------\n",
            "no_of_daily_data_points [1440 1438 1439 1320 1437 1434 1398 1420 1425 1396 1429 1389 1380 1364\n",
            " 1318 1377 1203 1417 1435 1174 1436 1411 1370]\n",
            "--------------------------------------------------------------------------------\n",
            "Day_Of_Week [0 1 2 3 4 5 6]\n",
            "--------------------------------------------------------------------------------\n",
            "Day_Type ['weekday' 'weekend']\n",
            "--------------------------------------------------------------------------------\n",
            "BlueCars_taken_sum [ 110   98  138  104  114  187  180   84   81   88  125  126  224  193\n",
            "  107  116  118  122  130  217  143  123  112  108  145  216  190   83\n",
            "  103  146  199  186  121  113  109  207  160  115   94   99  119  176\n",
            "  157   85  100  135    8   92  127  136  192  168  102  134  197  173\n",
            "  131  196  150  156  231  105  219  179  124  188  139   97  120  159\n",
            "  147  151  129  152  142  141  202  175   96  133  254  137  185  203\n",
            "    6  166  165  243  264  213  164  163  191  276  210  183  148  270\n",
            "  128  280  178  153  158  259  161  240   12  181  140  263  167  177\n",
            "  250  208  171  266  155  247  154  184  293  228  182  144  218  162\n",
            "  239  200  170  174  172  245    5  195  237  331  283  212  211  380\n",
            "  356  233  220  238  384  313  229  221  201  350  327  223  226  234\n",
            "  262  361  335  205  198  346  303  236  341  277  206   25  230  330\n",
            "  286  265  251  412  340  227  357  319  189  375  326  311  284  255\n",
            "  209  215  323  256  204  214  382  315  310  333  260  297  258  241\n",
            "  235  349  305  290  275  194  307  328  242  308  279  288  320  273\n",
            "  261  169  344  334  291  294  278  287  149  370   18  257  397  365\n",
            "  298  299  321  490  427  269  451  363  339  317  416  449  296  306\n",
            "  475  348  446  343  324  304  342  355  267   37  253  401  407  396\n",
            "  282  281  271  395  345  325  292  369  232  318  309  300  314  373\n",
            "  302  377  353  312  347  268  403  364  289  252  301  376   29  405\n",
            "  366  225   24  421  244  391  272  246  222  248  374  387  359   13\n",
            "  249  336  337  274  372  394  379  411  354  295   20  368  285  322\n",
            "  409  358  360  400  393  332  386  422  430  426  442  398  415  525\n",
            "  471  455  458  462  551  520  452  453  467  487  428  482  495  435\n",
            "  464  480  417  577  437  418  489  431  383  414  399   26  425  419\n",
            "  447  459  505  463  424  468  491  492  476  473  423  433  494  516\n",
            "  338  478  497  469  465  537  479  474  524  413  371  466  432  434\n",
            "  316  450  589  501  528  533  484  460  521  518  486  488  485  500\n",
            "   21  378  503  367   27  329  385  457  352  351  381  420  390  477\n",
            "  440  461  443  388   56  438  441  402  408  406   16  499  688  557\n",
            "  738  599  445  714  613  404  679  529  456  702  598  654  602  534\n",
            "  563   69  444  483  737  655  594  697  536  612  579  507  658  593\n",
            "  454  584  362  436  552  472  481  470  539  648  569  581  631  561\n",
            "  540  576  496  696  554  389   49  502  605  634  515  764  673  535\n",
            "  735  666  690  642  448  549  816  609  672  617  541  724   46  439\n",
            "  614  519  661  645  514  637  410  710  590  506  610  623  493  703\n",
            "  542  657  713  504  585  580  517  727  708  680  687  550  734  636\n",
            "  624  722  659  616  767  647  508  575  725  684  792  646  682  523\n",
            "  618  660  649  543   36  513  733  695  544  681  511  643  532  700\n",
            "  652  498  510  603  560  664  555  568  651  526  564  538  800  709\n",
            "  556  826  747  567  573  662   30  429  677  640  611  712  650  559\n",
            "  625   39  632  620  546  586  601  592  698  678  653  691  781  739\n",
            "  669  852 1061  913  694  791  810  881 1255 1097  753  885  831  950\n",
            " 1352 1132  751  718  784  871  963 1248 1014  721  732  880  942 1327\n",
            " 1043  808  794 1118 1036  723  874  872  943 1144 1037  757  765  827\n",
            "   58  897 1136  999  829  805  790  907 1127 1038  766  811  818  898\n",
            " 1209  980  746  819  813  946 1186  981  797  884  833  867 1024  939\n",
            "  839  756  926  893  875 1277 1082  887  962  955 1005 1002  774  936\n",
            " 1023  925  984  899  877  857  865  773  944 1155 1016  840  931  856\n",
            "  938 1335 1152  861  888  985  932 1089 1338 1164  864  994 1032  968\n",
            " 1087 1330  973  920 1093 1001  693  638  741  847  842  668  768  715\n",
            "  835  918  786  728  908 1062  989  796 1069  795 1065  905  760  755\n",
            "  630  982  665  843  824  953  583  748  719  772  770  683  814 1003\n",
            "  853  793  830  804  783 1015  854  780  987  628  825  799  787  777\n",
            "  817  789 1020  894  761  850  919  686  729  606  731  742  801 1088\n",
            "  758  812  745  912  978  866  862  860  917  846 1080  802  837  832\n",
            "  890 1006  901  844  909  988  845  548  553  705  928  692  776  992\n",
            "  701  945  635  929  716  754  706  644  873  803  604   51  629  740\n",
            "  782  991  785  806  763  736  977  834  762  798  720  868  752  667\n",
            "  809  974  707  744  749  923  859   38  392  547  587  566  530   48\n",
            "  596  582  562  588  591  522  730  704  670  627   55  676  531  622\n",
            "  639  545  527   31  619  615  633  571   47  512  600  626  558    7\n",
            "   11    3    4   10    9   14   17   19    0    2   15    1   23   71\n",
            "   43   35   68   67   28   64   70   33   80   63   40   45   62   34\n",
            "   32   59   41   52   74   75   66   78   44   65   93   57   50   53\n",
            "   72   54   82   76   22   42   60  132   79   61  106   73   89   95\n",
            "   91   90   87  111   77   86  101  117]\n",
            "--------------------------------------------------------------------------------\n",
            "BlueCars_returned_sum [ 103   94  139  104  117  185  180   83   84   85  125  127  223  193\n",
            "  107  116  118  122  130  217  150  113  146  218  189   81  110  147\n",
            "  204  121   99  112  109  207  165  111   93  119  176  158   86   98\n",
            "  135    9   91  131  137  138  208  177  124  101  145  203  169   96\n",
            "  136  142  196  154  100   97  144  128  179  151  115  232  105  219\n",
            "  143  190  102  159  155  156  120  141  201  133  253  199   95  108\n",
            "  188  126  206  174    7  244  197  153  264  148  164  277  213  149\n",
            "  175  270  198  280  161  178  152  160  257  205  240  123  157   12\n",
            "  265  186  173  140  171  167  255  209  170  266  248  243  183  292\n",
            "  222  134  236  132  181  172  184  168  162  237  163  233  202  283\n",
            "  192  252  211    6  250  187  229  249  338  293  214  212  228  379\n",
            "  359  220  225  245  400  307  221  224  367  334  274  344  340  317\n",
            "  235  342  290  182  241  332  297  195  231  414  329  210  366  319\n",
            "  247  376  331  322  271  328  267  377  311  281  339  305  216  258\n",
            "  284  238  326  275  330  318  304   21  166  279  310  315  300  352\n",
            "  269  254   19  191  333  259  295  262  256  242  341  272  285  288\n",
            "  230  278  303   13  407  356  476  433  302  343  456  372  291  308\n",
            "  301  429  467  321  466  358  306  438  313  299  355  362   16  312\n",
            "  287  261  401  405  260  413  337  298  309  398  375  316  286  426\n",
            "  363  289  320  382  314  349  294  364  346  369  411  378  371   17\n",
            "  399  234  383  227  194  403  325  268  200  423  350  394  365  246\n",
            "  327  226  370  347  273  282  296  408  389  418  324  239  251  416\n",
            "  360  393  396    8  276  409  424  435  442  412  532  492  430  422\n",
            "  460  459  552  545  448  441  465  477  428  488  519  390  406  478\n",
            "  594  380  420  449  368  402   22  427  446  421  457  471  528  454\n",
            "  388  496  523  469  445  453  447  525  417  464  506  512  425  351\n",
            "  432  494  484  529  483  498  535  443  458  392  395  434  462  391\n",
            "  348  444  568  461  463  508  482  534  481  472  518  485  480  415\n",
            "  419   18  336  335  455  521  517  436  263  440  499  410  345  474\n",
            "  381  323  361  384  354  387  439  479  468  450   35  353  397  215\n",
            "   23  513  674  490  716  641  713  644  386  431  690  569  507  711\n",
            "  602  613  570   62  595  563  437  493  630  404  658  629  682  557\n",
            "  625  501  567  676  622  596  526  548  579  522  516  373  510  451\n",
            "  659  649  605  475  667  559  561  489  547  688  584   44  611  621\n",
            "  770  687  509  758  655  473  717  536  798  618  669  603  541  671\n",
            "  735  487   61  651  593  656  642  581  686  607  608  673  684  520\n",
            "  666  685  564  497  571  647  725  503  694  724  696  549  707  645\n",
            "   41  550  617  695  670  633  745  679  514  589  712  504  538  560\n",
            "  783  524  592  634   56  639  572  693  546  678  606  544  627  598\n",
            "  530  533  648  537  600  614  551  565  704  531  554  575  785  543\n",
            "  573  824  742  578  698  680   39  582  654  646  672  624  385  597\n",
            "   42  638  631  553  615  577  566  635  374  558  495  632  650   27\n",
            "  843  720  752  846 1015  971  728  801  806  815  863 1211 1135  778\n",
            "  773  894  828  952 1300 1149  791  721  838 1214 1049  746  839  837\n",
            "  919 1287 1118  807  793 1136 1066  726  731  874  862  928 1117 1072\n",
            "  762  756  805  860 1057  747  830  865 1111 1119  734  819 1210 1046\n",
            "  780  972 1142 1033  706  792  869  967  979  873  767  893  891  840\n",
            " 1171 1189  875  942  995  963 1133 1051  775  763  736  857 1017  708\n",
            "  826  853  947  910  877  854 1146 1045  907  867  813  911 1032 1276\n",
            " 1271  892  982  948 1039 1294 1230 1004 1010 1040 1332 1143  880  914\n",
            "  970  930 1056 1154 1090   52  660  868  851  662  675  741  749  973\n",
            "  940  755  776  901 1077 1003  753  702  769 1061  890  787  808  887\n",
            " 1044  733  989  705  831  871  818  954  585  681  761   60  628  715\n",
            "  790  759  692  739  789  990  833  784  984  847  765  821 1020  861\n",
            "  616  777  729  842  832  834  797  779  915  898  623  714  710  599\n",
            "  816  620  664  697  802  804 1064  881  743  760  903  966  987  878\n",
            "  902  889 1076  855  885  996  879  906   40  542  703  904  677  939\n",
            "  981  612  938  958  771  917  852  643  709  718  845  590  663   57\n",
            "  864  700  969  610  738  757  730  754  983  975  949  737  823  876\n",
            "  665  768  786  772  965  897  883  539  357  502  586   53  604  527\n",
            "  583  470  580  591  576  652  744  689  683  486  699  701   79  500\n",
            "  722  556  811  515  661  653  587   75  588  601  555  562  637  505\n",
            "   55    5   10   20   11    3    4   14   15    1    0   24    2   49\n",
            "   31   34   65   25   30   38   54   76   32   45   50   37   36   28\n",
            "   74   69   33   29   58   47   48   71   43   66   26   51   59   63\n",
            "   46   68   67   64   90  129   77   78   80   89   88   87   72  106\n",
            "   92   70   73  114   82]\n",
            "--------------------------------------------------------------------------------\n",
            "Utilib_taken_sum [ 3  1  0  2  6  5  4  7  8  9 11 17 10 13 18 12 15 16 21 19 14 34 31 23\n",
            " 20 22 24 29 25 28 26 27 46 32 30 43 38 37 40 45 54 36 35 39 42 33 41 47]\n",
            "--------------------------------------------------------------------------------\n",
            "Utilib_returned_sum [ 2  1  0  3  6  5  4  7  8  9 11 17 10 13 18 14 15 12 21 20 16 19 35 32\n",
            " 23 22 24 25 27 26 30 49 28 31 29 43 38 39 36 34 47 45 33 58 41 37 42 40\n",
            " 44]\n",
            "--------------------------------------------------------------------------------\n",
            "Utilib_14_taken_sum [ 10   8   2   9   6   7   4  11  13  12  15  25   5  14   3  17  16   0\n",
            "   1  21  18  19  22  20  27  23  24  29  26  28  30  33  41  36  34  40\n",
            "  50  45  32  31  35  37  42  38  48  47  52  39  53  43  56  51  75  49\n",
            "  55  44  46  54  57  61  60  70  58  68  62  64  59  66  63  65  72  89\n",
            "  82  69  71  79  84  73  81  80  67  90 100  91  85  74  76  94  78  95\n",
            "  87  93]\n",
            "--------------------------------------------------------------------------------\n",
            "Utilib_14_returned_sum [  9   8   2   6  10   4  11  13  12  15   7  25   5  14   3  17  16   0\n",
            "   1  21  18  19  20  22  27  23  24  29  34  41  28  35  32  30  26  33\n",
            "  43  50  44  31  36  40  38  48  37  47  53  45  39  51  54  52  46  74\n",
            "  42  57  49  60  63  61  55  66  59  58  67  68  62  64  71  56  69  84\n",
            "  70  72  86  76  80  89  73  94  79  65  93  78  75  77  82  85  88 101\n",
            "  87  90  96  83]\n",
            "--------------------------------------------------------------------------------\n",
            "Slots_freed_sum [ 22  23  27  25  18  38  34  14  15  11  19  16  21  17  41  24  20  35\n",
            "  36  32  13  28  12  26   0  48  30  29  31  47  33  40  37   9  10  43\n",
            "  44  49  39  42  45  51  46  59  64  56  52   1  50  95  84  83  81  58\n",
            "  61  67 101  86  63  97  60  57  65  80  79  77  54  85  75  73  55   3\n",
            "  62  82  71  69  74  89  91 109  70  76  72  68  78  53  66  87   2   5\n",
            " 120 111  92 110  88 103 142 115 105 113 121  96  90 134 140 130  94  99\n",
            " 128 100 129  98 118 106 119 117 102 107  93 135 104 122 133 108 112 116\n",
            " 123 136 126   6 114 132 177 167 125 124 131 143 139 137 153 180 157 162\n",
            " 152 151 149 156 145 173 147 211 127 141 161 144 163 138 171 158 148 168\n",
            " 154 166 150 170 146 165 178 174 175 176 181 190 160 184 205 253 252 155\n",
            " 193 204 221 214 169 197 196 200 199 191 185 183 208 159 218 215 179 216\n",
            " 203 186 206   7 192 172 202 236 274 195 222 239 213 229 188 201 240 164\n",
            " 226 220 182   8 194 248 289 286 234 302 254 189 235 319 277 284 360 249\n",
            " 237 305 263 271 272 209 301 278 251 322 232 207 228 283 344 282 212 330\n",
            " 309 225 217 357 280 257 300 273 250 288 339 292 242 262 308 285 198 241\n",
            " 264 267 335 293 310 219 224 187 230 223 269 258 210 233 246 255 259 227\n",
            " 244 245 231 270 275 243 296 334   4]\n",
            "--------------------------------------------------------------------------------\n",
            "Slots_taken_sum [ 20  22  27  21  35  34  15  13  38  19  39  25  14   9  37  36  30  16\n",
            "  11  28  33  18  12   0  31  23  26  50  17  40  24  48  32   8  29  42\n",
            "  43  49  45  41  44  52  59  46  65  47  57  51   1  97  87  54  84  83\n",
            "  60  69 103  58  62  92  67  78  82  77  53  88  72  66  99  64  55  75\n",
            " 113  63  74  71  89  68  81  73  70  61  79  56  76  86   2 118 108 107\n",
            " 144 114  93 105 106 115 122  90  80  98  85 139 136 128  94 126  95   4\n",
            " 130 102  96 129 138 111 124 101 109 116 110 134  91 119 137 100   3 104\n",
            " 112   6 177 125 120 123 131 135 140 132 155 182 154 164 121 151 157 147\n",
            " 117 153 160 141 172 161   5 213 145 143 162 127 148 169 149 171 167 163\n",
            " 166 133 158 159 150 174 173 178 152   7 176 179 165 180 142 188 185 183\n",
            "  10 210 252 249 199 196 228 205 201 181 193 184 207 168 225 187 212 186\n",
            " 146 170 203 223 197 194 230 280 202 191 200 221 218 192 156 208 175 198\n",
            " 233 204 222 220 189 215 245 214 209 248 287 286 229 240 295 211 321 272\n",
            " 195 226 235 216 278 359 328 247 239 330 298 260 271 273 263 255 227 315\n",
            " 284 231 349 236 253 322 285 251 246 238 261 301 219 346 289 217 254 283\n",
            " 275 299 232 224 243 242 303 268 244 336 305 297 241 262 258 338 270 292\n",
            " 264 294 290 206 190 234 267 269 250 276 279 304 326]\n",
            "--------------------------------------------------------------------------------\n"
          ],
          "name": "stdout"
        }
      ]
    },
    {
      "cell_type": "code",
      "metadata": {
        "id": "JEX3cKTHhrKa",
        "colab_type": "code",
        "colab": {
          "base_uri": "https://localhost:8080/",
          "height": 35
        },
        "outputId": "d2a5299a-3c8d-4e5c-a88e-07cae1476040"
      },
      "source": [
        "#Checking whether there are any null values\n",
        "auto_df.isnull().values.any()\n",
        "\n",
        "# there are no null value in the data"
      ],
      "execution_count": null,
      "outputs": [
        {
          "output_type": "execute_result",
          "data": {
            "text/plain": [
              "False"
            ]
          },
          "metadata": {
            "tags": []
          },
          "execution_count": 34
        }
      ]
    },
    {
      "cell_type": "code",
      "metadata": {
        "id": "_I3943I0Stet",
        "colab_type": "code",
        "colab": {
          "base_uri": "https://localhost:8080/",
          "height": 272
        },
        "outputId": "c0dd61ce-ba92-4fc4-e5f8-7b8685f01de3"
      },
      "source": [
        "# checking the number of null values in the atribuutes\n",
        "auto_df.isnull().sum()"
      ],
      "execution_count": null,
      "outputs": [
        {
          "output_type": "execute_result",
          "data": {
            "text/plain": [
              "Postal_code                0\n",
              "Date                       0\n",
              "no_of_daily_data_points    0\n",
              "Day_Of_Week                0\n",
              "Day_Type                   0\n",
              "BlueCars_taken_sum         0\n",
              "BlueCars_returned_sum      0\n",
              "Utilib_taken_sum           0\n",
              "Utilib_returned_sum        0\n",
              "Utilib_14_taken_sum        0\n",
              "Utilib_14_returned_sum     0\n",
              "Slots_freed_sum            0\n",
              "Slots_taken_sum            0\n",
              "dtype: int64"
            ]
          },
          "metadata": {
            "tags": []
          },
          "execution_count": 35
        }
      ]
    },
    {
      "cell_type": "code",
      "metadata": {
        "id": "2m6CdQl2iP7S",
        "colab_type": "code",
        "colab": {
          "base_uri": "https://localhost:8080/",
          "height": 54
        },
        "outputId": "49a3db39-c120-4d3b-edd5-88d63cf5876a"
      },
      "source": [
        "# checking out for any duplicates in the data\n",
        "\n",
        "auto_df.duplicated().value_counts()\n",
        "\n",
        "#  there are no duplicates in the dataset"
      ],
      "execution_count": null,
      "outputs": [
        {
          "output_type": "execute_result",
          "data": {
            "text/plain": [
              "False    16085\n",
              "dtype: int64"
            ]
          },
          "metadata": {
            "tags": []
          },
          "execution_count": 36
        }
      ]
    },
    {
      "cell_type": "code",
      "metadata": {
        "id": "CavWFRVW1L-p",
        "colab_type": "code",
        "colab": {
          "base_uri": "https://localhost:8080/",
          "height": 126
        },
        "outputId": "bccaf3af-fc82-4a3a-c734-952db1f83f13"
      },
      "source": [
        "# checking the columns heads\n",
        "print(\"Columns of the Dataframe:\")\n",
        "print(auto_df.columns)"
      ],
      "execution_count": null,
      "outputs": [
        {
          "output_type": "stream",
          "text": [
            "Columns of the Dataframe:\n",
            "Index(['Postal_code', 'Date', 'no_of_daily_data_points', 'Day_Of_Week',\n",
            "       'Day_Type', 'BlueCars_taken_sum', 'BlueCars_returned_sum',\n",
            "       'Utilib_taken_sum', 'Utilib_returned_sum', 'Utilib_14_taken_sum',\n",
            "       'Utilib_14_returned_sum', 'Slots_freed_sum', 'Slots_taken_sum'],\n",
            "      dtype='object')\n"
          ],
          "name": "stdout"
        }
      ]
    },
    {
      "cell_type": "code",
      "metadata": {
        "id": "7aqUKrMNkFOQ",
        "colab_type": "code",
        "colab": {
          "base_uri": "https://localhost:8080/",
          "height": 318
        },
        "outputId": "915b62e9-24e7-4d41-c309-da607bd4a714"
      },
      "source": [
        "# descriptive statistics of the dataset\n",
        "# picking the numeric columns\n",
        "num_df = auto_df[['no_of_daily_data_points', 'Day_Type', 'BlueCars_taken_sum', 'BlueCars_returned_sum','Utilib_taken_sum', 'Utilib_returned_sum', 'Utilib_14_taken_sum','Utilib_14_returned_sum', 'Slots_freed_sum', 'Slots_taken_sum']]\n",
        "num_df.describe().T"
      ],
      "execution_count": null,
      "outputs": [
        {
          "output_type": "execute_result",
          "data": {
            "text/html": [
              "<div>\n",
              "<style scoped>\n",
              "    .dataframe tbody tr th:only-of-type {\n",
              "        vertical-align: middle;\n",
              "    }\n",
              "\n",
              "    .dataframe tbody tr th {\n",
              "        vertical-align: top;\n",
              "    }\n",
              "\n",
              "    .dataframe thead th {\n",
              "        text-align: right;\n",
              "    }\n",
              "</style>\n",
              "<table border=\"1\" class=\"dataframe\">\n",
              "  <thead>\n",
              "    <tr style=\"text-align: right;\">\n",
              "      <th></th>\n",
              "      <th>count</th>\n",
              "      <th>mean</th>\n",
              "      <th>std</th>\n",
              "      <th>min</th>\n",
              "      <th>25%</th>\n",
              "      <th>50%</th>\n",
              "      <th>75%</th>\n",
              "      <th>max</th>\n",
              "    </tr>\n",
              "  </thead>\n",
              "  <tbody>\n",
              "    <tr>\n",
              "      <th>no_of_daily_data_points</th>\n",
              "      <td>16085.0</td>\n",
              "      <td>1431.330619</td>\n",
              "      <td>33.212050</td>\n",
              "      <td>1174.0</td>\n",
              "      <td>1439.0</td>\n",
              "      <td>1440.0</td>\n",
              "      <td>1440.0</td>\n",
              "      <td>1440.0</td>\n",
              "    </tr>\n",
              "    <tr>\n",
              "      <th>BlueCars_taken_sum</th>\n",
              "      <td>16085.0</td>\n",
              "      <td>125.926951</td>\n",
              "      <td>185.426579</td>\n",
              "      <td>0.0</td>\n",
              "      <td>20.0</td>\n",
              "      <td>46.0</td>\n",
              "      <td>135.0</td>\n",
              "      <td>1352.0</td>\n",
              "    </tr>\n",
              "    <tr>\n",
              "      <th>BlueCars_returned_sum</th>\n",
              "      <td>16085.0</td>\n",
              "      <td>125.912714</td>\n",
              "      <td>185.501535</td>\n",
              "      <td>0.0</td>\n",
              "      <td>20.0</td>\n",
              "      <td>46.0</td>\n",
              "      <td>135.0</td>\n",
              "      <td>1332.0</td>\n",
              "    </tr>\n",
              "    <tr>\n",
              "      <th>Utilib_taken_sum</th>\n",
              "      <td>16085.0</td>\n",
              "      <td>3.698290</td>\n",
              "      <td>5.815058</td>\n",
              "      <td>0.0</td>\n",
              "      <td>0.0</td>\n",
              "      <td>1.0</td>\n",
              "      <td>4.0</td>\n",
              "      <td>54.0</td>\n",
              "    </tr>\n",
              "    <tr>\n",
              "      <th>Utilib_returned_sum</th>\n",
              "      <td>16085.0</td>\n",
              "      <td>3.699099</td>\n",
              "      <td>5.824634</td>\n",
              "      <td>0.0</td>\n",
              "      <td>0.0</td>\n",
              "      <td>1.0</td>\n",
              "      <td>4.0</td>\n",
              "      <td>58.0</td>\n",
              "    </tr>\n",
              "    <tr>\n",
              "      <th>Utilib_14_taken_sum</th>\n",
              "      <td>16085.0</td>\n",
              "      <td>8.600560</td>\n",
              "      <td>12.870098</td>\n",
              "      <td>0.0</td>\n",
              "      <td>1.0</td>\n",
              "      <td>3.0</td>\n",
              "      <td>10.0</td>\n",
              "      <td>100.0</td>\n",
              "    </tr>\n",
              "    <tr>\n",
              "      <th>Utilib_14_returned_sum</th>\n",
              "      <td>16085.0</td>\n",
              "      <td>8.599192</td>\n",
              "      <td>12.868993</td>\n",
              "      <td>0.0</td>\n",
              "      <td>1.0</td>\n",
              "      <td>3.0</td>\n",
              "      <td>10.0</td>\n",
              "      <td>101.0</td>\n",
              "    </tr>\n",
              "    <tr>\n",
              "      <th>Slots_freed_sum</th>\n",
              "      <td>16085.0</td>\n",
              "      <td>22.629033</td>\n",
              "      <td>52.120263</td>\n",
              "      <td>0.0</td>\n",
              "      <td>0.0</td>\n",
              "      <td>0.0</td>\n",
              "      <td>5.0</td>\n",
              "      <td>360.0</td>\n",
              "    </tr>\n",
              "    <tr>\n",
              "      <th>Slots_taken_sum</th>\n",
              "      <td>16085.0</td>\n",
              "      <td>22.629282</td>\n",
              "      <td>52.146030</td>\n",
              "      <td>0.0</td>\n",
              "      <td>0.0</td>\n",
              "      <td>0.0</td>\n",
              "      <td>5.0</td>\n",
              "      <td>359.0</td>\n",
              "    </tr>\n",
              "  </tbody>\n",
              "</table>\n",
              "</div>"
            ],
            "text/plain": [
              "                           count         mean  ...     75%     max\n",
              "no_of_daily_data_points  16085.0  1431.330619  ...  1440.0  1440.0\n",
              "BlueCars_taken_sum       16085.0   125.926951  ...   135.0  1352.0\n",
              "BlueCars_returned_sum    16085.0   125.912714  ...   135.0  1332.0\n",
              "Utilib_taken_sum         16085.0     3.698290  ...     4.0    54.0\n",
              "Utilib_returned_sum      16085.0     3.699099  ...     4.0    58.0\n",
              "Utilib_14_taken_sum      16085.0     8.600560  ...    10.0   100.0\n",
              "Utilib_14_returned_sum   16085.0     8.599192  ...    10.0   101.0\n",
              "Slots_freed_sum          16085.0    22.629033  ...     5.0   360.0\n",
              "Slots_taken_sum          16085.0    22.629282  ...     5.0   359.0\n",
              "\n",
              "[9 rows x 8 columns]"
            ]
          },
          "metadata": {
            "tags": []
          },
          "execution_count": 38
        }
      ]
    },
    {
      "cell_type": "code",
      "metadata": {
        "id": "5CVYPDHVp6cQ",
        "colab_type": "code",
        "colab": {
          "base_uri": "https://localhost:8080/",
          "height": 272
        },
        "outputId": "6e1605ba-6ce3-4e13-b6db-2def8d02cd71"
      },
      "source": [
        "# converting the date column to datetime object since it s stored as string \n",
        "auto_df['Date'] = pd.to_datetime(auto_df['Date'])\n",
        "auto_df.dtypes"
      ],
      "execution_count": null,
      "outputs": [
        {
          "output_type": "execute_result",
          "data": {
            "text/plain": [
              "Postal_code                         int64\n",
              "Date                       datetime64[ns]\n",
              "no_of_daily_data_points             int64\n",
              "Day_Of_Week                         int64\n",
              "Day_Type                           object\n",
              "BlueCars_taken_sum                  int64\n",
              "BlueCars_returned_sum               int64\n",
              "Utilib_taken_sum                    int64\n",
              "Utilib_returned_sum                 int64\n",
              "Utilib_14_taken_sum                 int64\n",
              "Utilib_14_returned_sum              int64\n",
              "Slots_freed_sum                     int64\n",
              "Slots_taken_sum                     int64\n",
              "dtype: object"
            ]
          },
          "metadata": {
            "tags": []
          },
          "execution_count": 39
        }
      ]
    },
    {
      "cell_type": "code",
      "metadata": {
        "id": "tJhOw9aMqjCt",
        "colab_type": "code",
        "colab": {
          "base_uri": "https://localhost:8080/",
          "height": 145
        },
        "outputId": "028a139c-c4a2-4bec-f595-74986becbd05"
      },
      "source": [
        "# finding the descriptive statistics after changing the data type for the Date column\n",
        "auto_df.Date.describe()"
      ],
      "execution_count": null,
      "outputs": [
        {
          "output_type": "execute_result",
          "data": {
            "text/plain": [
              "count                   16085\n",
              "unique                    156\n",
              "top       2018-06-12 00:00:00\n",
              "freq                      104\n",
              "first     2018-01-01 00:00:00\n",
              "last      2018-06-19 00:00:00\n",
              "Name: Date, dtype: object"
            ]
          },
          "metadata": {
            "tags": []
          },
          "execution_count": 40
        }
      ]
    },
    {
      "cell_type": "markdown",
      "metadata": {
        "id": "ckfufNrcUHeH",
        "colab_type": "text"
      },
      "source": [
        "## 4. External Data Source Validation"
      ]
    },
    {
      "cell_type": "markdown",
      "metadata": {
        "id": "6L4sl_0WXlbg",
        "colab_type": "text"
      },
      "source": [
        "Making sure your data matches something outside of the dataset is very important. It allows you to ensure that the measurements are roughly in line with what they should be and it serves as a check on what other things might be wrong in your dataset. External validation can often be as simple as checking your data against a single number, as we will do here.\n",
        "\n",
        "The data was obtained from:[Link](http://bit.ly/DSCoreAutolibDataset)."
      ]
    },
    {
      "cell_type": "markdown",
      "metadata": {
        "id": "6XC_g-zKxe-r",
        "colab_type": "text"
      },
      "source": [
        "### a.Validation"
      ]
    },
    {
      "cell_type": "markdown",
      "metadata": {
        "id": "FlBMxEDBUc9B",
        "colab_type": "text"
      },
      "source": [
        "## 5. Tidying the Dataset"
      ]
    },
    {
      "cell_type": "code",
      "metadata": {
        "id": "jE6Lx2qpsevv",
        "colab_type": "code",
        "colab": {
          "base_uri": "https://localhost:8080/",
          "height": 90
        },
        "outputId": "f7d1a452-63ee-4f86-e192-586cc40d593a"
      },
      "source": [
        "# dropping some columns to remain with the attributes of interest\n",
        "auto_df.drop(['no_of_daily_data_points','Utilib_taken_sum','Utilib_returned_sum', 'Utilib_14_taken_sum', 'Utilib_14_returned_sum','Slots_freed_sum', 'Slots_taken_sum'], axis=1, inplace=True)\n",
        "print(\"Columns of the Dataframe:\")\n",
        "print(auto_df.columns)\n"
      ],
      "execution_count": null,
      "outputs": [
        {
          "output_type": "stream",
          "text": [
            "Columns of the Dataframe:\n",
            "Index(['Postal_code', 'Date', 'Day_Of_Week', 'Day_Type', 'BlueCars_taken_sum',\n",
            "       'BlueCars_returned_sum'],\n",
            "      dtype='object')\n"
          ],
          "name": "stdout"
        }
      ]
    },
    {
      "cell_type": "code",
      "metadata": {
        "id": "Sut0jB9VU96p",
        "colab_type": "code",
        "colab": {
          "base_uri": "https://localhost:8080/",
          "height": 35
        },
        "outputId": "a5234088-6efa-496c-88ad-b836b0b219e0"
      },
      "source": [
        "# checking for anomalies in blue cars taken\n",
        "Q1= auto_df.BlueCars_taken_sum.quantile(0.25)\n",
        "Q3= auto_df.BlueCars_taken_sum.quantile(0.75)\n",
        "IQR = Q3 - Q1\n",
        "print(IQR)\n",
        "#(auto_df.BlueCars_taken_sum  < (Q1 - 1.5 * IQR)) |(auto_df.BlueCars_taken_sum  > (Q3 + 1.5 * IQR))"
      ],
      "execution_count": null,
      "outputs": [
        {
          "output_type": "stream",
          "text": [
            "115.0\n"
          ],
          "name": "stdout"
        }
      ]
    },
    {
      "cell_type": "code",
      "metadata": {
        "id": "isZPPFP95Pz3",
        "colab_type": "code",
        "colab": {
          "base_uri": "https://localhost:8080/",
          "height": 319
        },
        "outputId": "e34f96cb-521f-47f1-ef57-d0b67d05ae5d"
      },
      "source": [
        "# visual drawing to show outliers in blue cars taken\n",
        "sns.boxplot(auto_df['BlueCars_taken_sum'], color='pink')\n",
        "plt.title('Distribution of blue cars taken')"
      ],
      "execution_count": null,
      "outputs": [
        {
          "output_type": "execute_result",
          "data": {
            "text/plain": [
              "Text(0.5, 1.0, 'Distribution of blue cars taken')"
            ]
          },
          "metadata": {
            "tags": []
          },
          "execution_count": 43
        },
        {
          "output_type": "display_data",
          "data": {
            "image/png": "[encoded data removed]",
            "text/plain": [
              "<Figure size 432x288 with 1 Axes>"
            ]
          },
          "metadata": {
            "tags": [],
            "needs_background": "light"
          }
        }
      ]
    },
    {
      "cell_type": "code",
      "metadata": {
        "id": "DZeEIc3AVXZC",
        "colab_type": "code",
        "colab": {
          "base_uri": "https://localhost:8080/",
          "height": 35
        },
        "outputId": "68f955ec-245e-4c4e-9ade-c16ce4dbda5f"
      },
      "source": [
        "# checking for anomalies in bluecars returned\n",
        "Q1= auto_df.BlueCars_returned_sum.quantile(0.25)\n",
        "Q3= auto_df.BlueCars_returned_sum .quantile(0.75)\n",
        "IQR = Q3 - Q1\n",
        "print(IQR)\n",
        "#(auto_df.BlueCars_returned_sum   < (Q1 - 1.5 * IQR)) |(auto_df.BlueCars_returned_sum  > (Q3 + 1.5 * IQR))"
      ],
      "execution_count": null,
      "outputs": [
        {
          "output_type": "stream",
          "text": [
            "115.0\n"
          ],
          "name": "stdout"
        }
      ]
    },
    {
      "cell_type": "code",
      "metadata": {
        "id": "ic-dROgp9OO9",
        "colab_type": "code",
        "colab": {
          "base_uri": "https://localhost:8080/",
          "height": 319
        },
        "outputId": "e60e2ddc-d730-4457-c478-caa56ef8c1fa"
      },
      "source": [
        "# visual drawing to show outliers in blue cars returned\n",
        "sns.boxplot(auto_df['BlueCars_returned_sum'], color='green')\n",
        "plt.title('Distribution of blue cars returned')"
      ],
      "execution_count": null,
      "outputs": [
        {
          "output_type": "execute_result",
          "data": {
            "text/plain": [
              "Text(0.5, 1.0, 'Distribution of blue cars returned')"
            ]
          },
          "metadata": {
            "tags": []
          },
          "execution_count": 45
        },
        {
          "output_type": "display_data",
          "data": {
            "image/png": "[encoded data removed]",
            "text/plain": [
              "<Figure size 432x288 with 1 Axes>"
            ]
          },
          "metadata": {
            "tags": [],
            "needs_background": "light"
          }
        }
      ]
    },
    {
      "cell_type": "code",
      "metadata": {
        "id": "bNlT17PmmQ6m",
        "colab_type": "code",
        "colab": {
          "base_uri": "https://localhost:8080/",
          "height": 35
        },
        "outputId": "b78b3a64-ea58-4841-ad0d-1d24120aed78"
      },
      "source": [
        "# checking for outliers in \n",
        "Q1= auto_df.Day_Of_Week.quantile(0.25)\n",
        "Q3= auto_df.Day_Of_Week.quantile(0.75)\n",
        "IQR = Q3 - Q1\n",
        "print(IQR)\n",
        "#(auto_df.Day_Of_Week < (Q1 - 1.5 * IQR)) |(auto_df.Day_Of_Week > (Q3 + 1.5 * IQR))"
      ],
      "execution_count": null,
      "outputs": [
        {
          "output_type": "stream",
          "text": [
            "4.0\n"
          ],
          "name": "stdout"
        }
      ]
    },
    {
      "cell_type": "code",
      "metadata": {
        "id": "D6WFSGVfoNB8",
        "colab_type": "code",
        "colab": {
          "base_uri": "https://localhost:8080/",
          "height": 126
        },
        "outputId": "0e68551b-a3aa-4ab0-9e0c-65b85b9a95a3"
      },
      "source": [
        "# checking for skewness in the data\n",
        "auto_df.skew()"
      ],
      "execution_count": null,
      "outputs": [
        {
          "output_type": "execute_result",
          "data": {
            "text/plain": [
              "Postal_code             -1.168778\n",
              "Day_Of_Week              0.018824\n",
              "BlueCars_taken_sum       2.406355\n",
              "BlueCars_returned_sum    2.412085\n",
              "Month                    0.148530\n",
              "dtype: float64"
            ]
          },
          "metadata": {
            "tags": []
          },
          "execution_count": 73
        }
      ]
    },
    {
      "cell_type": "code",
      "metadata": {
        "id": "2b_juLCuogUy",
        "colab_type": "code",
        "colab": {
          "base_uri": "https://localhost:8080/",
          "height": 126
        },
        "outputId": "cb0a9e1c-914c-4e7d-8e87-0d49d9f6577a"
      },
      "source": [
        "# checking for kurtosis in the data\n",
        "auto_df.kurt()"
      ],
      "execution_count": null,
      "outputs": [
        {
          "output_type": "execute_result",
          "data": {
            "text/plain": [
              "Postal_code             -0.542143\n",
              "Day_Of_Week             -1.260994\n",
              "BlueCars_taken_sum       6.172692\n",
              "BlueCars_returned_sum    6.186288\n",
              "Month                   -1.111356\n",
              "dtype: float64"
            ]
          },
          "metadata": {
            "tags": []
          },
          "execution_count": 74
        }
      ]
    },
    {
      "cell_type": "code",
      "metadata": {
        "id": "PvCYb6dgW4yh",
        "colab_type": "code",
        "colab": {
          "base_uri": "https://localhost:8080/",
          "height": 145
        },
        "outputId": "58c16d2d-0ea8-40d8-cc64-f18aaf51be80"
      },
      "source": [
        "# Identifying the Missing Data\n",
        "#\n",
        "auto_df.isnull().sum().sort_values(ascending= False)"
      ],
      "execution_count": null,
      "outputs": [
        {
          "output_type": "execute_result",
          "data": {
            "text/plain": [
              "BlueCars_returned_sum    0\n",
              "BlueCars_taken_sum       0\n",
              "Day_Type                 0\n",
              "Day_Of_Week              0\n",
              "Date                     0\n",
              "Postal_code              0\n",
              "dtype: int64"
            ]
          },
          "metadata": {
            "tags": []
          },
          "execution_count": 47
        }
      ]
    },
    {
      "cell_type": "markdown",
      "metadata": {
        "id": "rF2ABPsHUtbZ",
        "colab_type": "text"
      },
      "source": [
        "## 6. Exploratory Analysis"
      ]
    },
    {
      "cell_type": "markdown",
      "metadata": {
        "id": "UYQ3odgxa5FM",
        "colab_type": "text"
      },
      "source": [
        "**Univariate analysis**"
      ]
    },
    {
      "cell_type": "code",
      "metadata": {
        "id": "yRl96Q4XzC3T",
        "colab_type": "code",
        "colab": {
          "base_uri": "https://localhost:8080/",
          "height": 635
        },
        "outputId": "39515c25-c1d8-4bf4-e069-8df38e1eb73e"
      },
      "source": [
        "# getting the counts for the postal codes in the data set\n",
        "print(auto_df['Postal_code'].value_counts().head(20))\n",
        "\n",
        "print('The postal code appearing most is:')\n",
        "print(auto_df.Postal_code.mode())"
      ],
      "execution_count": null,
      "outputs": [
        {
          "output_type": "stream",
          "text": [
            "94130    156\n",
            "92310    156\n",
            "78140    156\n",
            "94700    156\n",
            "95100    156\n",
            "75006    156\n",
            "75014    156\n",
            "92150    156\n",
            "92190    156\n",
            "92230    156\n",
            "92270    156\n",
            "92350    156\n",
            "94340    156\n",
            "93110    156\n",
            "93230    156\n",
            "93310    156\n",
            "93350    156\n",
            "75007    156\n",
            "75015    156\n",
            "75019    156\n",
            "Name: Postal_code, dtype: int64\n",
            "The postal code appearing most is:\n",
            "0     75001\n",
            "1     75002\n",
            "2     75003\n",
            "3     75004\n",
            "4     75005\n",
            "      ...  \n",
            "84    94700\n",
            "85    94800\n",
            "86    95100\n",
            "87    95870\n",
            "88    95880\n",
            "Length: 89, dtype: int64\n"
          ],
          "name": "stdout"
        }
      ]
    },
    {
      "cell_type": "code",
      "metadata": {
        "id": "z0BP7fdD1LN2",
        "colab_type": "code",
        "colab": {
          "base_uri": "https://localhost:8080/",
          "height": 126
        },
        "outputId": "19b2bdb7-3c98-43ee-a6f6-fb4d8a2e546c"
      },
      "source": [
        "# getting the counts for day type in the data set\n",
        "print(auto_df['Day_Type'].value_counts().head())\n",
        "\n",
        "print('The day type appearing most is:')\n",
        "print(auto_df.Day_Type.mode())"
      ],
      "execution_count": null,
      "outputs": [
        {
          "output_type": "stream",
          "text": [
            "weekday    11544\n",
            "weekend     4541\n",
            "Name: Day_Type, dtype: int64\n",
            "The day type appearing most is:\n",
            "0    weekday\n",
            "dtype: object\n"
          ],
          "name": "stdout"
        }
      ]
    },
    {
      "cell_type": "code",
      "metadata": {
        "id": "lnWk6tDC1ij7",
        "colab_type": "code",
        "colab": {
          "base_uri": "https://localhost:8080/",
          "height": 464
        },
        "outputId": "ee541d93-dc53-40dd-b9ca-b5a0b4f17a0c"
      },
      "source": [
        "# the distribution of the car demand on weekend and weekday \n",
        "auto_df['Day_Type'].value_counts().plot(kind='barh', figsize=(7,7), color='orange')\n",
        "plt.xlabel('Counts')\n",
        "plt.title('Bar graph of day types distribition')\n",
        "plt.show()"
      ],
      "execution_count": null,
      "outputs": [
        {
          "output_type": "display_data",
          "data": {
            "image/png": "[encoded data removed]",
            "text/plain": [
              "<Figure size 504x504 with 1 Axes>"
            ]
          },
          "metadata": {
            "tags": [],
            "needs_background": "light"
          }
        }
      ]
    },
    {
      "cell_type": "code",
      "metadata": {
        "id": "hJFV7BLQ39TP",
        "colab_type": "code",
        "colab": {
          "base_uri": "https://localhost:8080/",
          "height": 217
        },
        "outputId": "422e415b-6069-4418-d0ef-c5261bf2f593"
      },
      "source": [
        "# getting the counts for day type in the data set\n",
        "print(auto_df['Day_Of_Week'].value_counts())\n",
        "\n",
        "print('The day of the week appearing most is:')\n",
        "print(auto_df.Day_Type.mode())"
      ],
      "execution_count": null,
      "outputs": [
        {
          "output_type": "stream",
          "text": [
            "0    2374\n",
            "1    2363\n",
            "6    2274\n",
            "4    2271\n",
            "3    2268\n",
            "2    2268\n",
            "5    2267\n",
            "Name: Day_Of_Week, dtype: int64\n",
            "The day of the week appearing most is:\n",
            "0    weekday\n",
            "dtype: object\n"
          ],
          "name": "stdout"
        }
      ]
    },
    {
      "cell_type": "code",
      "metadata": {
        "id": "ksUwlDEGpDih",
        "colab_type": "code",
        "colab": {
          "base_uri": "https://localhost:8080/",
          "height": 624
        },
        "outputId": "5a1dbef2-843c-44fe-e6bc-792e44a25543"
      },
      "source": [
        "#plotting a histogram for the blue car taken and the blue cars returned\n",
        "#\n",
        "\n",
        "sns.distplot(auto_df.BlueCars_taken_sum, bins = None)\n",
        "\n",
        "\n",
        "plt.xlabel('Bluecars Taken', color = 'black', fontsize =12)\n",
        "plt.ylabel('Probability', color ='black', fontsize = 12)\n",
        "plt.title('Distribution of the Bluecars taken', color = 'black', fontsize = 14)\n",
        "plt.show()\n",
        "print('\\n')\n",
        "\n",
        "sns.distplot(auto_df.BlueCars_returned_sum, bins = None)\n",
        "\n",
        "\n",
        "plt.xlabel('Bluecars Returned', color = 'black', fontsize =12)\n",
        "plt.ylabel('Probability', color ='black', fontsize = 12)\n",
        "plt.title('Distribution of the Bluecars Returned', color = 'black', fontsize = 14)\n",
        "plt.show()\n"
      ],
      "execution_count": null,
      "outputs": [
        {
          "output_type": "display_data",
          "data": {
            "image/png": "[encoded data removed]",
            "text/plain": [
              "<Figure size 432x288 with 1 Axes>"
            ]
          },
          "metadata": {
            "tags": [],
            "needs_background": "light"
          }
        },
        {
          "output_type": "stream",
          "text": [
            "\n",
            "\n"
          ],
          "name": "stdout"
        },
        {
          "output_type": "display_data",
          "data": {
            "image/png": "[encoded data removed]",
            "text/plain": [
              "<Figure size 432x288 with 1 Axes>"
            ]
          },
          "metadata": {
            "tags": [],
            "needs_background": "light"
          }
        }
      ]
    },
    {
      "cell_type": "code",
      "metadata": {
        "id": "u9bMDRSX3tp7",
        "colab_type": "code",
        "colab": {
          "base_uri": "https://localhost:8080/",
          "height": 464
        },
        "outputId": "5c11e3e9-786f-4a0c-dab2-64efff555b60"
      },
      "source": [
        "# the distribution of installations in the zones \n",
        "auto_df['Day_Of_Week'].value_counts().plot(kind='barh', figsize=(7,7), color='purple')\n",
        "plt.xlabel('Counts')\n",
        "plt.title('Bar graph of days of the week distribition')\n",
        "plt.show()"
      ],
      "execution_count": null,
      "outputs": [
        {
          "output_type": "display_data",
          "data": {
            "image/png": "[encoded data removed]",
            "text/plain": [
              "<Figure size 504x504 with 1 Axes>"
            ]
          },
          "metadata": {
            "tags": [],
            "needs_background": "light"
          }
        }
      ]
    },
    {
      "cell_type": "code",
      "metadata": {
        "id": "6O-5LW-xcUkb",
        "colab_type": "code",
        "colab": {
          "base_uri": "https://localhost:8080/",
          "height": 407
        },
        "outputId": "c5c94a14-1435-4c0a-c590-905b454c5cb1"
      },
      "source": [
        "# the data was aggregated in 2018\n",
        "# extracting only the month from the Date column and forming a new column month\n",
        "auto_df['Month']=pd.DatetimeIndex(auto_df['Date']).month\n",
        "auto_df"
      ],
      "execution_count": null,
      "outputs": [
        {
          "output_type": "execute_result",
          "data": {
            "text/html": [
              "<div>\n",
              "<style scoped>\n",
              "    .dataframe tbody tr th:only-of-type {\n",
              "        vertical-align: middle;\n",
              "    }\n",
              "\n",
              "    .dataframe tbody tr th {\n",
              "        vertical-align: top;\n",
              "    }\n",
              "\n",
              "    .dataframe thead th {\n",
              "        text-align: right;\n",
              "    }\n",
              "</style>\n",
              "<table border=\"1\" class=\"dataframe\">\n",
              "  <thead>\n",
              "    <tr style=\"text-align: right;\">\n",
              "      <th></th>\n",
              "      <th>Postal_code</th>\n",
              "      <th>Date</th>\n",
              "      <th>Day_Of_Week</th>\n",
              "      <th>Day_Type</th>\n",
              "      <th>BlueCars_taken_sum</th>\n",
              "      <th>BlueCars_returned_sum</th>\n",
              "      <th>Month</th>\n",
              "    </tr>\n",
              "  </thead>\n",
              "  <tbody>\n",
              "    <tr>\n",
              "      <th>0</th>\n",
              "      <td>75001</td>\n",
              "      <td>2018-01-01</td>\n",
              "      <td>0</td>\n",
              "      <td>weekday</td>\n",
              "      <td>110</td>\n",
              "      <td>103</td>\n",
              "      <td>1</td>\n",
              "    </tr>\n",
              "    <tr>\n",
              "      <th>1</th>\n",
              "      <td>75001</td>\n",
              "      <td>2018-01-02</td>\n",
              "      <td>1</td>\n",
              "      <td>weekday</td>\n",
              "      <td>98</td>\n",
              "      <td>94</td>\n",
              "      <td>1</td>\n",
              "    </tr>\n",
              "    <tr>\n",
              "      <th>2</th>\n",
              "      <td>75001</td>\n",
              "      <td>2018-01-03</td>\n",
              "      <td>2</td>\n",
              "      <td>weekday</td>\n",
              "      <td>138</td>\n",
              "      <td>139</td>\n",
              "      <td>1</td>\n",
              "    </tr>\n",
              "    <tr>\n",
              "      <th>3</th>\n",
              "      <td>75001</td>\n",
              "      <td>2018-01-04</td>\n",
              "      <td>3</td>\n",
              "      <td>weekday</td>\n",
              "      <td>104</td>\n",
              "      <td>104</td>\n",
              "      <td>1</td>\n",
              "    </tr>\n",
              "    <tr>\n",
              "      <th>4</th>\n",
              "      <td>75001</td>\n",
              "      <td>2018-01-05</td>\n",
              "      <td>4</td>\n",
              "      <td>weekday</td>\n",
              "      <td>114</td>\n",
              "      <td>117</td>\n",
              "      <td>1</td>\n",
              "    </tr>\n",
              "    <tr>\n",
              "      <th>...</th>\n",
              "      <td>...</td>\n",
              "      <td>...</td>\n",
              "      <td>...</td>\n",
              "      <td>...</td>\n",
              "      <td>...</td>\n",
              "      <td>...</td>\n",
              "      <td>...</td>\n",
              "    </tr>\n",
              "    <tr>\n",
              "      <th>16080</th>\n",
              "      <td>95880</td>\n",
              "      <td>2018-06-15</td>\n",
              "      <td>4</td>\n",
              "      <td>weekday</td>\n",
              "      <td>15</td>\n",
              "      <td>10</td>\n",
              "      <td>6</td>\n",
              "    </tr>\n",
              "    <tr>\n",
              "      <th>16081</th>\n",
              "      <td>95880</td>\n",
              "      <td>2018-06-16</td>\n",
              "      <td>5</td>\n",
              "      <td>weekend</td>\n",
              "      <td>19</td>\n",
              "      <td>19</td>\n",
              "      <td>6</td>\n",
              "    </tr>\n",
              "    <tr>\n",
              "      <th>16082</th>\n",
              "      <td>95880</td>\n",
              "      <td>2018-06-17</td>\n",
              "      <td>6</td>\n",
              "      <td>weekend</td>\n",
              "      <td>33</td>\n",
              "      <td>35</td>\n",
              "      <td>6</td>\n",
              "    </tr>\n",
              "    <tr>\n",
              "      <th>16083</th>\n",
              "      <td>95880</td>\n",
              "      <td>2018-06-18</td>\n",
              "      <td>0</td>\n",
              "      <td>weekday</td>\n",
              "      <td>11</td>\n",
              "      <td>14</td>\n",
              "      <td>6</td>\n",
              "    </tr>\n",
              "    <tr>\n",
              "      <th>16084</th>\n",
              "      <td>95880</td>\n",
              "      <td>2018-06-19</td>\n",
              "      <td>1</td>\n",
              "      <td>weekday</td>\n",
              "      <td>2</td>\n",
              "      <td>2</td>\n",
              "      <td>6</td>\n",
              "    </tr>\n",
              "  </tbody>\n",
              "</table>\n",
              "<p>16085 rows × 7 columns</p>\n",
              "</div>"
            ],
            "text/plain": [
              "       Postal_code       Date  ...  BlueCars_returned_sum Month\n",
              "0            75001 2018-01-01  ...                    103     1\n",
              "1            75001 2018-01-02  ...                     94     1\n",
              "2            75001 2018-01-03  ...                    139     1\n",
              "3            75001 2018-01-04  ...                    104     1\n",
              "4            75001 2018-01-05  ...                    117     1\n",
              "...            ...        ...  ...                    ...   ...\n",
              "16080        95880 2018-06-15  ...                     10     6\n",
              "16081        95880 2018-06-16  ...                     19     6\n",
              "16082        95880 2018-06-17  ...                     35     6\n",
              "16083        95880 2018-06-18  ...                     14     6\n",
              "16084        95880 2018-06-19  ...                      2     6\n",
              "\n",
              "[16085 rows x 7 columns]"
            ]
          },
          "metadata": {
            "tags": []
          },
          "execution_count": 53
        }
      ]
    },
    {
      "cell_type": "code",
      "metadata": {
        "id": "Sk47fat8dMt4",
        "colab_type": "code",
        "colab": {
          "base_uri": "https://localhost:8080/",
          "height": 145
        },
        "outputId": "9afdb5c4-87a5-43a5-a9b2-218ebde81f9b"
      },
      "source": [
        "auto_df.Month.value_counts()"
      ],
      "execution_count": null,
      "outputs": [
        {
          "output_type": "execute_result",
          "data": {
            "text/plain": [
              "1    3195\n",
              "3    3185\n",
              "4    3094\n",
              "2    2573\n",
              "5    2078\n",
              "6    1960\n",
              "Name: Month, dtype: int64"
            ]
          },
          "metadata": {
            "tags": []
          },
          "execution_count": 54
        }
      ]
    },
    {
      "cell_type": "code",
      "metadata": {
        "id": "eG4VFoUDdy5J",
        "colab_type": "code",
        "colab": {
          "base_uri": "https://localhost:8080/",
          "height": 319
        },
        "outputId": "ab67bb7c-7459-4569-8b38-bfc66d99d32f"
      },
      "source": [
        "# finding the distribution of the demand for cars in each month\n",
        "sns.countplot(auto_df.Month, color='#0EFFE9')\n",
        "plt.xlabel('Months')\n",
        "plt.ylabel('Count')\n",
        "plt.title('Date aggregation for the car demand')\n",
        "plt.show"
      ],
      "execution_count": null,
      "outputs": [
        {
          "output_type": "execute_result",
          "data": {
            "text/plain": [
              "<function matplotlib.pyplot.show>"
            ]
          },
          "metadata": {
            "tags": []
          },
          "execution_count": 55
        },
        {
          "output_type": "display_data",
          "data": {
            "image/png": "[encoded data removed]",
            "text/plain": [
              "<Figure size 432x288 with 1 Axes>"
            ]
          },
          "metadata": {
            "tags": [],
            "needs_background": "light"
          }
        }
      ]
    },
    {
      "cell_type": "code",
      "metadata": {
        "id": "MZa7gJ7lrKf4",
        "colab_type": "code",
        "colab": {
          "base_uri": "https://localhost:8080/",
          "height": 621
        },
        "outputId": "084943ef-5a18-4662-ef8a-53e376d672c4"
      },
      "source": [
        "# plotting a line graph showing the trend of the total usage of bluecars in each month.\n",
        "#\n",
        "auto_df.groupby('Month')['BlueCars_taken_sum'].sum().plot()\n",
        "plt.xlabel('Month', fontsize = 12, color = 'black')\n",
        "plt.ylabel('Sum of Bluecars Taken', fontsize = 12, color = 'black')\n",
        "plt.title('Trend of Bluecars in 6 Months')\n",
        "\n",
        "plt.show()\n",
        "print('\\n')\n",
        "\n",
        "auto_df.groupby('Month')['BlueCars_returned_sum'].sum().plot()\n",
        "plt.xlabel('Month', fontsize = 12, color = 'black')\n",
        "plt.ylabel('Sum of Bluecars Returned', fontsize = 12, color = 'black')\n",
        "plt.title('Trend of Bluecars in 6 Months')\n",
        "\n",
        "plt.show()"
      ],
      "execution_count": null,
      "outputs": [
        {
          "output_type": "display_data",
          "data": {
            "image/png": "[encoded data removed]",
            "text/plain": [
              "<Figure size 432x288 with 1 Axes>"
            ]
          },
          "metadata": {
            "tags": [],
            "needs_background": "light"
          }
        },
        {
          "output_type": "stream",
          "text": [
            "\n",
            "\n"
          ],
          "name": "stdout"
        },
        {
          "output_type": "display_data",
          "data": {
            "image/png": "[encoded data removed]",
            "text/plain": [
              "<Figure size 432x288 with 1 Axes>"
            ]
          },
          "metadata": {
            "tags": [],
            "needs_background": "light"
          }
        }
      ]
    },
    {
      "cell_type": "markdown",
      "metadata": {
        "id": "xm0hfavrxC5N",
        "colab_type": "text"
      },
      "source": [
        "**Bivariate anaysis**"
      ]
    },
    {
      "cell_type": "code",
      "metadata": {
        "id": "XggsBND-jvHX",
        "colab_type": "code",
        "colab": {
          "base_uri": "https://localhost:8080/",
          "height": 945
        },
        "outputId": "473efe50-3b8b-4d46-867d-94b7b235da89"
      },
      "source": [
        "# outputting a pairplot to see the bivariate relationship in the data\n",
        "sns.pairplot(auto_df)"
      ],
      "execution_count": null,
      "outputs": [
        {
          "output_type": "execute_result",
          "data": {
            "text/plain": [
              "<seaborn.axisgrid.PairGrid at 0x7ff3cede8128>"
            ]
          },
          "metadata": {
            "tags": []
          },
          "execution_count": 42
        },
        {
          "output_type": "display_data",
          "data": {
            "image/png": "[encoded data removed]",
            "text/plain": [
              "<Figure size 900x900 with 30 Axes>"
            ]
          },
          "metadata": {
            "tags": [],
            "needs_background": "light"
          }
        }
      ]
    },
    {
      "cell_type": "code",
      "metadata": {
        "id": "jqEPq6zifXnY",
        "colab_type": "code",
        "colab": {
          "base_uri": "https://localhost:8080/",
          "height": 467
        },
        "outputId": "4a244300-9a0b-4978-82cd-d09749727777"
      },
      "source": [
        "# looking at the car demand by month and postal code for the blue cars\n",
        "auto_df[['Postal_code', 'Month', 'BlueCars_taken_sum', 'BlueCars_returned_sum']].groupby(['Month', 'Postal_code']).agg(['mean', 'count'])"
      ],
      "execution_count": null,
      "outputs": [
        {
          "output_type": "execute_result",
          "data": {
            "text/html": [
              "<div>\n",
              "<style scoped>\n",
              "    .dataframe tbody tr th:only-of-type {\n",
              "        vertical-align: middle;\n",
              "    }\n",
              "\n",
              "    .dataframe tbody tr th {\n",
              "        vertical-align: top;\n",
              "    }\n",
              "\n",
              "    .dataframe thead tr th {\n",
              "        text-align: left;\n",
              "    }\n",
              "\n",
              "    .dataframe thead tr:last-of-type th {\n",
              "        text-align: right;\n",
              "    }\n",
              "</style>\n",
              "<table border=\"1\" class=\"dataframe\">\n",
              "  <thead>\n",
              "    <tr>\n",
              "      <th></th>\n",
              "      <th></th>\n",
              "      <th colspan=\"2\" halign=\"left\">BlueCars_taken_sum</th>\n",
              "      <th colspan=\"2\" halign=\"left\">BlueCars_returned_sum</th>\n",
              "    </tr>\n",
              "    <tr>\n",
              "      <th></th>\n",
              "      <th></th>\n",
              "      <th>mean</th>\n",
              "      <th>count</th>\n",
              "      <th>mean</th>\n",
              "      <th>count</th>\n",
              "    </tr>\n",
              "    <tr>\n",
              "      <th>Month</th>\n",
              "      <th>Postal_code</th>\n",
              "      <th></th>\n",
              "      <th></th>\n",
              "      <th></th>\n",
              "      <th></th>\n",
              "    </tr>\n",
              "  </thead>\n",
              "  <tbody>\n",
              "    <tr>\n",
              "      <th rowspan=\"5\" valign=\"top\">1</th>\n",
              "      <th>75001</th>\n",
              "      <td>133.000000</td>\n",
              "      <td>31</td>\n",
              "      <td>132.741935</td>\n",
              "      <td>31</td>\n",
              "    </tr>\n",
              "    <tr>\n",
              "      <th>75002</th>\n",
              "      <td>175.258065</td>\n",
              "      <td>31</td>\n",
              "      <td>174.774194</td>\n",
              "      <td>31</td>\n",
              "    </tr>\n",
              "    <tr>\n",
              "      <th>75003</th>\n",
              "      <td>249.516129</td>\n",
              "      <td>31</td>\n",
              "      <td>248.709677</td>\n",
              "      <td>31</td>\n",
              "    </tr>\n",
              "    <tr>\n",
              "      <th>75004</th>\n",
              "      <td>216.645161</td>\n",
              "      <td>31</td>\n",
              "      <td>215.935484</td>\n",
              "      <td>31</td>\n",
              "    </tr>\n",
              "    <tr>\n",
              "      <th>75005</th>\n",
              "      <td>324.709677</td>\n",
              "      <td>31</td>\n",
              "      <td>324.193548</td>\n",
              "      <td>31</td>\n",
              "    </tr>\n",
              "    <tr>\n",
              "      <th>...</th>\n",
              "      <th>...</th>\n",
              "      <td>...</td>\n",
              "      <td>...</td>\n",
              "      <td>...</td>\n",
              "      <td>...</td>\n",
              "    </tr>\n",
              "    <tr>\n",
              "      <th rowspan=\"5\" valign=\"top\">6</th>\n",
              "      <th>94700</th>\n",
              "      <td>40.421053</td>\n",
              "      <td>19</td>\n",
              "      <td>40.210526</td>\n",
              "      <td>19</td>\n",
              "    </tr>\n",
              "    <tr>\n",
              "      <th>94800</th>\n",
              "      <td>90.000000</td>\n",
              "      <td>19</td>\n",
              "      <td>89.526316</td>\n",
              "      <td>19</td>\n",
              "    </tr>\n",
              "    <tr>\n",
              "      <th>95100</th>\n",
              "      <td>22.631579</td>\n",
              "      <td>19</td>\n",
              "      <td>22.052632</td>\n",
              "      <td>19</td>\n",
              "    </tr>\n",
              "    <tr>\n",
              "      <th>95870</th>\n",
              "      <td>13.789474</td>\n",
              "      <td>19</td>\n",
              "      <td>14.052632</td>\n",
              "      <td>19</td>\n",
              "    </tr>\n",
              "    <tr>\n",
              "      <th>95880</th>\n",
              "      <td>16.736842</td>\n",
              "      <td>19</td>\n",
              "      <td>16.578947</td>\n",
              "      <td>19</td>\n",
              "    </tr>\n",
              "  </tbody>\n",
              "</table>\n",
              "<p>624 rows × 4 columns</p>\n",
              "</div>"
            ],
            "text/plain": [
              "                  BlueCars_taken_sum       BlueCars_returned_sum      \n",
              "                                mean count                  mean count\n",
              "Month Postal_code                                                     \n",
              "1     75001               133.000000    31            132.741935    31\n",
              "      75002               175.258065    31            174.774194    31\n",
              "      75003               249.516129    31            248.709677    31\n",
              "      75004               216.645161    31            215.935484    31\n",
              "      75005               324.709677    31            324.193548    31\n",
              "...                              ...   ...                   ...   ...\n",
              "6     94700                40.421053    19             40.210526    19\n",
              "      94800                90.000000    19             89.526316    19\n",
              "      95100                22.631579    19             22.052632    19\n",
              "      95870                13.789474    19             14.052632    19\n",
              "      95880                16.736842    19             16.578947    19\n",
              "\n",
              "[624 rows x 4 columns]"
            ]
          },
          "metadata": {
            "tags": []
          },
          "execution_count": 34
        }
      ]
    },
    {
      "cell_type": "code",
      "metadata": {
        "id": "a-zmwBPNhGv2",
        "colab_type": "code",
        "colab": {
          "base_uri": "https://localhost:8080/",
          "height": 467
        },
        "outputId": "bc4caf2c-5e45-4344-d35b-8e955ca08cc9"
      },
      "source": [
        "# the count of blue cars taken and returned grouped by postal cod and the day type\n",
        "auto_df[['Postal_code', 'Day_Type', 'BlueCars_taken_sum', 'BlueCars_returned_sum']].groupby(['Postal_code', 'Day_Type']).agg(['mean', 'count'])"
      ],
      "execution_count": null,
      "outputs": [
        {
          "output_type": "execute_result",
          "data": {
            "text/html": [
              "<div>\n",
              "<style scoped>\n",
              "    .dataframe tbody tr th:only-of-type {\n",
              "        vertical-align: middle;\n",
              "    }\n",
              "\n",
              "    .dataframe tbody tr th {\n",
              "        vertical-align: top;\n",
              "    }\n",
              "\n",
              "    .dataframe thead tr th {\n",
              "        text-align: left;\n",
              "    }\n",
              "\n",
              "    .dataframe thead tr:last-of-type th {\n",
              "        text-align: right;\n",
              "    }\n",
              "</style>\n",
              "<table border=\"1\" class=\"dataframe\">\n",
              "  <thead>\n",
              "    <tr>\n",
              "      <th></th>\n",
              "      <th></th>\n",
              "      <th colspan=\"2\" halign=\"left\">BlueCars_taken_sum</th>\n",
              "      <th colspan=\"2\" halign=\"left\">BlueCars_returned_sum</th>\n",
              "    </tr>\n",
              "    <tr>\n",
              "      <th></th>\n",
              "      <th></th>\n",
              "      <th>mean</th>\n",
              "      <th>count</th>\n",
              "      <th>mean</th>\n",
              "      <th>count</th>\n",
              "    </tr>\n",
              "    <tr>\n",
              "      <th>Postal_code</th>\n",
              "      <th>Day_Type</th>\n",
              "      <th></th>\n",
              "      <th></th>\n",
              "      <th></th>\n",
              "      <th></th>\n",
              "    </tr>\n",
              "  </thead>\n",
              "  <tbody>\n",
              "    <tr>\n",
              "      <th rowspan=\"2\" valign=\"top\">75001</th>\n",
              "      <th>weekday</th>\n",
              "      <td>117.241071</td>\n",
              "      <td>112</td>\n",
              "      <td>116.741071</td>\n",
              "      <td>112</td>\n",
              "    </tr>\n",
              "    <tr>\n",
              "      <th>weekend</th>\n",
              "      <td>178.727273</td>\n",
              "      <td>44</td>\n",
              "      <td>179.522727</td>\n",
              "      <td>44</td>\n",
              "    </tr>\n",
              "    <tr>\n",
              "      <th rowspan=\"2\" valign=\"top\">75002</th>\n",
              "      <th>weekday</th>\n",
              "      <td>158.955357</td>\n",
              "      <td>112</td>\n",
              "      <td>157.723214</td>\n",
              "      <td>112</td>\n",
              "    </tr>\n",
              "    <tr>\n",
              "      <th>weekend</th>\n",
              "      <td>212.272727</td>\n",
              "      <td>44</td>\n",
              "      <td>215.090909</td>\n",
              "      <td>44</td>\n",
              "    </tr>\n",
              "    <tr>\n",
              "      <th>75003</th>\n",
              "      <th>weekday</th>\n",
              "      <td>211.196429</td>\n",
              "      <td>112</td>\n",
              "      <td>208.330357</td>\n",
              "      <td>112</td>\n",
              "    </tr>\n",
              "    <tr>\n",
              "      <th>...</th>\n",
              "      <th>...</th>\n",
              "      <td>...</td>\n",
              "      <td>...</td>\n",
              "      <td>...</td>\n",
              "      <td>...</td>\n",
              "    </tr>\n",
              "    <tr>\n",
              "      <th>95100</th>\n",
              "      <th>weekend</th>\n",
              "      <td>34.090909</td>\n",
              "      <td>44</td>\n",
              "      <td>32.090909</td>\n",
              "      <td>44</td>\n",
              "    </tr>\n",
              "    <tr>\n",
              "      <th rowspan=\"2\" valign=\"top\">95870</th>\n",
              "      <th>weekday</th>\n",
              "      <td>13.669643</td>\n",
              "      <td>112</td>\n",
              "      <td>13.642857</td>\n",
              "      <td>112</td>\n",
              "    </tr>\n",
              "    <tr>\n",
              "      <th>weekend</th>\n",
              "      <td>19.250000</td>\n",
              "      <td>44</td>\n",
              "      <td>19.227273</td>\n",
              "      <td>44</td>\n",
              "    </tr>\n",
              "    <tr>\n",
              "      <th rowspan=\"2\" valign=\"top\">95880</th>\n",
              "      <th>weekday</th>\n",
              "      <td>11.205357</td>\n",
              "      <td>112</td>\n",
              "      <td>12.241071</td>\n",
              "      <td>112</td>\n",
              "    </tr>\n",
              "    <tr>\n",
              "      <th>weekend</th>\n",
              "      <td>28.022727</td>\n",
              "      <td>44</td>\n",
              "      <td>25.386364</td>\n",
              "      <td>44</td>\n",
              "    </tr>\n",
              "  </tbody>\n",
              "</table>\n",
              "<p>208 rows × 4 columns</p>\n",
              "</div>"
            ],
            "text/plain": [
              "                     BlueCars_taken_sum       BlueCars_returned_sum      \n",
              "                                   mean count                  mean count\n",
              "Postal_code Day_Type                                                     \n",
              "75001       weekday          117.241071   112            116.741071   112\n",
              "            weekend          178.727273    44            179.522727    44\n",
              "75002       weekday          158.955357   112            157.723214   112\n",
              "            weekend          212.272727    44            215.090909    44\n",
              "75003       weekday          211.196429   112            208.330357   112\n",
              "...                                 ...   ...                   ...   ...\n",
              "95100       weekend           34.090909    44             32.090909    44\n",
              "95870       weekday           13.669643   112             13.642857   112\n",
              "            weekend           19.250000    44             19.227273    44\n",
              "95880       weekday           11.205357   112             12.241071   112\n",
              "            weekend           28.022727    44             25.386364    44\n",
              "\n",
              "[208 rows x 4 columns]"
            ]
          },
          "metadata": {
            "tags": []
          },
          "execution_count": 36
        }
      ]
    },
    {
      "cell_type": "code",
      "metadata": {
        "id": "_ebDuQgjibgr",
        "colab_type": "code",
        "colab": {
          "base_uri": "https://localhost:8080/",
          "height": 318
        },
        "outputId": "a35e0d98-ed35-4774-8ec3-4f8c288bc145"
      },
      "source": [
        "# count of blue cars taken and returned grouped by day of week \n",
        "auto_df[['Day_Of_Week', 'BlueCars_taken_sum', 'BlueCars_returned_sum']].groupby('Day_Of_Week').agg(['mean', 'count'])"
      ],
      "execution_count": null,
      "outputs": [
        {
          "output_type": "execute_result",
          "data": {
            "text/html": [
              "<div>\n",
              "<style scoped>\n",
              "    .dataframe tbody tr th:only-of-type {\n",
              "        vertical-align: middle;\n",
              "    }\n",
              "\n",
              "    .dataframe tbody tr th {\n",
              "        vertical-align: top;\n",
              "    }\n",
              "\n",
              "    .dataframe thead tr th {\n",
              "        text-align: left;\n",
              "    }\n",
              "\n",
              "    .dataframe thead tr:last-of-type th {\n",
              "        text-align: right;\n",
              "    }\n",
              "</style>\n",
              "<table border=\"1\" class=\"dataframe\">\n",
              "  <thead>\n",
              "    <tr>\n",
              "      <th></th>\n",
              "      <th colspan=\"2\" halign=\"left\">BlueCars_taken_sum</th>\n",
              "      <th colspan=\"2\" halign=\"left\">BlueCars_returned_sum</th>\n",
              "    </tr>\n",
              "    <tr>\n",
              "      <th></th>\n",
              "      <th>mean</th>\n",
              "      <th>count</th>\n",
              "      <th>mean</th>\n",
              "      <th>count</th>\n",
              "    </tr>\n",
              "    <tr>\n",
              "      <th>Day_Of_Week</th>\n",
              "      <th></th>\n",
              "      <th></th>\n",
              "      <th></th>\n",
              "      <th></th>\n",
              "    </tr>\n",
              "  </thead>\n",
              "  <tbody>\n",
              "    <tr>\n",
              "      <th>0</th>\n",
              "      <td>111.159646</td>\n",
              "      <td>2374</td>\n",
              "      <td>111.545072</td>\n",
              "      <td>2374</td>\n",
              "    </tr>\n",
              "    <tr>\n",
              "      <th>1</th>\n",
              "      <td>110.850614</td>\n",
              "      <td>2363</td>\n",
              "      <td>110.228523</td>\n",
              "      <td>2363</td>\n",
              "    </tr>\n",
              "    <tr>\n",
              "      <th>2</th>\n",
              "      <td>115.453704</td>\n",
              "      <td>2268</td>\n",
              "      <td>114.935185</td>\n",
              "      <td>2268</td>\n",
              "    </tr>\n",
              "    <tr>\n",
              "      <th>3</th>\n",
              "      <td>116.052469</td>\n",
              "      <td>2268</td>\n",
              "      <td>115.944004</td>\n",
              "      <td>2268</td>\n",
              "    </tr>\n",
              "    <tr>\n",
              "      <th>4</th>\n",
              "      <td>127.056803</td>\n",
              "      <td>2271</td>\n",
              "      <td>125.948481</td>\n",
              "      <td>2271</td>\n",
              "    </tr>\n",
              "    <tr>\n",
              "      <th>5</th>\n",
              "      <td>156.124393</td>\n",
              "      <td>2267</td>\n",
              "      <td>155.081606</td>\n",
              "      <td>2267</td>\n",
              "    </tr>\n",
              "    <tr>\n",
              "      <th>6</th>\n",
              "      <td>146.071240</td>\n",
              "      <td>2274</td>\n",
              "      <td>148.986368</td>\n",
              "      <td>2274</td>\n",
              "    </tr>\n",
              "  </tbody>\n",
              "</table>\n",
              "</div>"
            ],
            "text/plain": [
              "            BlueCars_taken_sum       BlueCars_returned_sum      \n",
              "                          mean count                  mean count\n",
              "Day_Of_Week                                                     \n",
              "0                   111.159646  2374            111.545072  2374\n",
              "1                   110.850614  2363            110.228523  2363\n",
              "2                   115.453704  2268            114.935185  2268\n",
              "3                   116.052469  2268            115.944004  2268\n",
              "4                   127.056803  2271            125.948481  2271\n",
              "5                   156.124393  2267            155.081606  2267\n",
              "6                   146.071240  2274            148.986368  2274"
            ]
          },
          "metadata": {
            "tags": []
          },
          "execution_count": 38
        }
      ]
    },
    {
      "cell_type": "code",
      "metadata": {
        "id": "TuKmie1JjO9u",
        "colab_type": "code",
        "colab": {
          "base_uri": "https://localhost:8080/",
          "height": 288
        },
        "outputId": "ecff86f0-a5a1-4643-8701-dc6312fffab9"
      },
      "source": [
        "# count of blue cars taken ad returned gruped by month\n",
        "auto_df[['Month', 'BlueCars_taken_sum', 'BlueCars_returned_sum']].groupby('Month').agg(['mean', 'count'])"
      ],
      "execution_count": null,
      "outputs": [
        {
          "output_type": "execute_result",
          "data": {
            "text/html": [
              "<div>\n",
              "<style scoped>\n",
              "    .dataframe tbody tr th:only-of-type {\n",
              "        vertical-align: middle;\n",
              "    }\n",
              "\n",
              "    .dataframe tbody tr th {\n",
              "        vertical-align: top;\n",
              "    }\n",
              "\n",
              "    .dataframe thead tr th {\n",
              "        text-align: left;\n",
              "    }\n",
              "\n",
              "    .dataframe thead tr:last-of-type th {\n",
              "        text-align: right;\n",
              "    }\n",
              "</style>\n",
              "<table border=\"1\" class=\"dataframe\">\n",
              "  <thead>\n",
              "    <tr>\n",
              "      <th></th>\n",
              "      <th colspan=\"2\" halign=\"left\">BlueCars_taken_sum</th>\n",
              "      <th colspan=\"2\" halign=\"left\">BlueCars_returned_sum</th>\n",
              "    </tr>\n",
              "    <tr>\n",
              "      <th></th>\n",
              "      <th>mean</th>\n",
              "      <th>count</th>\n",
              "      <th>mean</th>\n",
              "      <th>count</th>\n",
              "    </tr>\n",
              "    <tr>\n",
              "      <th>Month</th>\n",
              "      <th></th>\n",
              "      <th></th>\n",
              "      <th></th>\n",
              "      <th></th>\n",
              "    </tr>\n",
              "  </thead>\n",
              "  <tbody>\n",
              "    <tr>\n",
              "      <th>1</th>\n",
              "      <td>126.189045</td>\n",
              "      <td>3195</td>\n",
              "      <td>126.228795</td>\n",
              "      <td>3195</td>\n",
              "    </tr>\n",
              "    <tr>\n",
              "      <th>2</th>\n",
              "      <td>120.368442</td>\n",
              "      <td>2573</td>\n",
              "      <td>120.267781</td>\n",
              "      <td>2573</td>\n",
              "    </tr>\n",
              "    <tr>\n",
              "      <th>3</th>\n",
              "      <td>127.231083</td>\n",
              "      <td>3185</td>\n",
              "      <td>127.309262</td>\n",
              "      <td>3185</td>\n",
              "    </tr>\n",
              "    <tr>\n",
              "      <th>4</th>\n",
              "      <td>124.467679</td>\n",
              "      <td>3094</td>\n",
              "      <td>124.373303</td>\n",
              "      <td>3094</td>\n",
              "    </tr>\n",
              "    <tr>\n",
              "      <th>5</th>\n",
              "      <td>127.436959</td>\n",
              "      <td>2078</td>\n",
              "      <td>127.285371</td>\n",
              "      <td>2078</td>\n",
              "    </tr>\n",
              "    <tr>\n",
              "      <th>6</th>\n",
              "      <td>131.380102</td>\n",
              "      <td>1960</td>\n",
              "      <td>131.513265</td>\n",
              "      <td>1960</td>\n",
              "    </tr>\n",
              "  </tbody>\n",
              "</table>\n",
              "</div>"
            ],
            "text/plain": [
              "      BlueCars_taken_sum       BlueCars_returned_sum      \n",
              "                    mean count                  mean count\n",
              "Month                                                     \n",
              "1             126.189045  3195            126.228795  3195\n",
              "2             120.368442  2573            120.267781  2573\n",
              "3             127.231083  3185            127.309262  3185\n",
              "4             124.467679  3094            124.373303  3094\n",
              "5             127.436959  2078            127.285371  2078\n",
              "6             131.380102  1960            131.513265  1960"
            ]
          },
          "metadata": {
            "tags": []
          },
          "execution_count": 39
        }
      ]
    },
    {
      "cell_type": "code",
      "metadata": {
        "id": "lbwmld59l-M_",
        "colab_type": "code",
        "colab": {
          "base_uri": "https://localhost:8080/",
          "height": 168
        },
        "outputId": "a6509bc9-b805-4a6c-e2a2-44847ec415cd"
      },
      "source": [
        "# count of blue cars taken ad returned gruped by day type\n",
        "auto_df[['Day_Type', 'BlueCars_taken_sum', 'BlueCars_returned_sum']].groupby('Day_Type').agg(['mean', 'count'])"
      ],
      "execution_count": null,
      "outputs": [
        {
          "output_type": "execute_result",
          "data": {
            "text/html": [
              "<div>\n",
              "<style scoped>\n",
              "    .dataframe tbody tr th:only-of-type {\n",
              "        vertical-align: middle;\n",
              "    }\n",
              "\n",
              "    .dataframe tbody tr th {\n",
              "        vertical-align: top;\n",
              "    }\n",
              "\n",
              "    .dataframe thead tr th {\n",
              "        text-align: left;\n",
              "    }\n",
              "\n",
              "    .dataframe thead tr:last-of-type th {\n",
              "        text-align: right;\n",
              "    }\n",
              "</style>\n",
              "<table border=\"1\" class=\"dataframe\">\n",
              "  <thead>\n",
              "    <tr>\n",
              "      <th></th>\n",
              "      <th colspan=\"2\" halign=\"left\">BlueCars_taken_sum</th>\n",
              "      <th colspan=\"2\" halign=\"left\">BlueCars_returned_sum</th>\n",
              "    </tr>\n",
              "    <tr>\n",
              "      <th></th>\n",
              "      <th>mean</th>\n",
              "      <th>count</th>\n",
              "      <th>mean</th>\n",
              "      <th>count</th>\n",
              "    </tr>\n",
              "    <tr>\n",
              "      <th>Day_Type</th>\n",
              "      <th></th>\n",
              "      <th></th>\n",
              "      <th></th>\n",
              "      <th></th>\n",
              "    </tr>\n",
              "  </thead>\n",
              "  <tbody>\n",
              "    <tr>\n",
              "      <th>weekday</th>\n",
              "      <td>116.028673</td>\n",
              "      <td>11544</td>\n",
              "      <td>115.639380</td>\n",
              "      <td>11544</td>\n",
              "    </tr>\n",
              "    <tr>\n",
              "      <th>weekend</th>\n",
              "      <td>151.090068</td>\n",
              "      <td>4541</td>\n",
              "      <td>152.029289</td>\n",
              "      <td>4541</td>\n",
              "    </tr>\n",
              "  </tbody>\n",
              "</table>\n",
              "</div>"
            ],
            "text/plain": [
              "         BlueCars_taken_sum        BlueCars_returned_sum       \n",
              "                       mean  count                  mean  count\n",
              "Day_Type                                                       \n",
              "weekday          116.028673  11544            115.639380  11544\n",
              "weekend          151.090068   4541            152.029289   4541"
            ]
          },
          "metadata": {
            "tags": []
          },
          "execution_count": 43
        }
      ]
    },
    {
      "cell_type": "code",
      "metadata": {
        "id": "5iaEW4GQmUAA",
        "colab_type": "code",
        "colab": {
          "base_uri": "https://localhost:8080/",
          "height": 467
        },
        "outputId": "311ec609-4dcd-40dd-b106-3550b598f556"
      },
      "source": [
        "# count of blue cars taken ad returned gruped by postal code\n",
        "auto_df[['Postal_code', 'BlueCars_taken_sum', 'BlueCars_returned_sum']].groupby('Postal_code').agg(['mean', 'count'])"
      ],
      "execution_count": null,
      "outputs": [
        {
          "output_type": "execute_result",
          "data": {
            "text/html": [
              "<div>\n",
              "<style scoped>\n",
              "    .dataframe tbody tr th:only-of-type {\n",
              "        vertical-align: middle;\n",
              "    }\n",
              "\n",
              "    .dataframe tbody tr th {\n",
              "        vertical-align: top;\n",
              "    }\n",
              "\n",
              "    .dataframe thead tr th {\n",
              "        text-align: left;\n",
              "    }\n",
              "\n",
              "    .dataframe thead tr:last-of-type th {\n",
              "        text-align: right;\n",
              "    }\n",
              "</style>\n",
              "<table border=\"1\" class=\"dataframe\">\n",
              "  <thead>\n",
              "    <tr>\n",
              "      <th></th>\n",
              "      <th colspan=\"2\" halign=\"left\">BlueCars_taken_sum</th>\n",
              "      <th colspan=\"2\" halign=\"left\">BlueCars_returned_sum</th>\n",
              "    </tr>\n",
              "    <tr>\n",
              "      <th></th>\n",
              "      <th>mean</th>\n",
              "      <th>count</th>\n",
              "      <th>mean</th>\n",
              "      <th>count</th>\n",
              "    </tr>\n",
              "    <tr>\n",
              "      <th>Postal_code</th>\n",
              "      <th></th>\n",
              "      <th></th>\n",
              "      <th></th>\n",
              "      <th></th>\n",
              "    </tr>\n",
              "  </thead>\n",
              "  <tbody>\n",
              "    <tr>\n",
              "      <th>75001</th>\n",
              "      <td>134.583333</td>\n",
              "      <td>156</td>\n",
              "      <td>134.448718</td>\n",
              "      <td>156</td>\n",
              "    </tr>\n",
              "    <tr>\n",
              "      <th>75002</th>\n",
              "      <td>173.993590</td>\n",
              "      <td>156</td>\n",
              "      <td>173.903846</td>\n",
              "      <td>156</td>\n",
              "    </tr>\n",
              "    <tr>\n",
              "      <th>75003</th>\n",
              "      <td>238.384615</td>\n",
              "      <td>156</td>\n",
              "      <td>238.166667</td>\n",
              "      <td>156</td>\n",
              "    </tr>\n",
              "    <tr>\n",
              "      <th>75004</th>\n",
              "      <td>201.628205</td>\n",
              "      <td>156</td>\n",
              "      <td>201.596154</td>\n",
              "      <td>156</td>\n",
              "    </tr>\n",
              "    <tr>\n",
              "      <th>75005</th>\n",
              "      <td>306.192308</td>\n",
              "      <td>156</td>\n",
              "      <td>306.108974</td>\n",
              "      <td>156</td>\n",
              "    </tr>\n",
              "    <tr>\n",
              "      <th>...</th>\n",
              "      <td>...</td>\n",
              "      <td>...</td>\n",
              "      <td>...</td>\n",
              "      <td>...</td>\n",
              "    </tr>\n",
              "    <tr>\n",
              "      <th>94700</th>\n",
              "      <td>33.897436</td>\n",
              "      <td>156</td>\n",
              "      <td>33.903846</td>\n",
              "      <td>156</td>\n",
              "    </tr>\n",
              "    <tr>\n",
              "      <th>94800</th>\n",
              "      <td>80.038462</td>\n",
              "      <td>156</td>\n",
              "      <td>79.980769</td>\n",
              "      <td>156</td>\n",
              "    </tr>\n",
              "    <tr>\n",
              "      <th>95100</th>\n",
              "      <td>23.993590</td>\n",
              "      <td>156</td>\n",
              "      <td>23.903846</td>\n",
              "      <td>156</td>\n",
              "    </tr>\n",
              "    <tr>\n",
              "      <th>95870</th>\n",
              "      <td>15.243590</td>\n",
              "      <td>156</td>\n",
              "      <td>15.217949</td>\n",
              "      <td>156</td>\n",
              "    </tr>\n",
              "    <tr>\n",
              "      <th>95880</th>\n",
              "      <td>15.948718</td>\n",
              "      <td>156</td>\n",
              "      <td>15.948718</td>\n",
              "      <td>156</td>\n",
              "    </tr>\n",
              "  </tbody>\n",
              "</table>\n",
              "<p>104 rows × 4 columns</p>\n",
              "</div>"
            ],
            "text/plain": [
              "            BlueCars_taken_sum       BlueCars_returned_sum      \n",
              "                          mean count                  mean count\n",
              "Postal_code                                                     \n",
              "75001               134.583333   156            134.448718   156\n",
              "75002               173.993590   156            173.903846   156\n",
              "75003               238.384615   156            238.166667   156\n",
              "75004               201.628205   156            201.596154   156\n",
              "75005               306.192308   156            306.108974   156\n",
              "...                        ...   ...                   ...   ...\n",
              "94700                33.897436   156             33.903846   156\n",
              "94800                80.038462   156             79.980769   156\n",
              "95100                23.993590   156             23.903846   156\n",
              "95870                15.243590   156             15.217949   156\n",
              "95880                15.948718   156             15.948718   156\n",
              "\n",
              "[104 rows x 4 columns]"
            ]
          },
          "metadata": {
            "tags": []
          },
          "execution_count": 44
        }
      ]
    },
    {
      "cell_type": "code",
      "metadata": {
        "id": "dtjO9uokqRrg",
        "colab_type": "code",
        "colab": {
          "base_uri": "https://localhost:8080/",
          "height": 302
        },
        "outputId": "7e31847a-13e6-4582-c1a4-d8839ae23cc8"
      },
      "source": [
        "plt.scatter(x=auto_df.BlueCars_taken_sum, y=auto_df.BlueCars_returned_sum, c= '#9467bd')\n",
        "plt.title('Relationship between cars taken and car returned')"
      ],
      "execution_count": null,
      "outputs": [
        {
          "output_type": "execute_result",
          "data": {
            "text/plain": [
              "Text(0.5, 1.0, 'Relationship between cars taken and car returned')"
            ]
          },
          "metadata": {
            "tags": []
          },
          "execution_count": 51
        },
        {
          "output_type": "display_data",
          "data": {
            "image/png": "[encoded data removed]",
            "text/plain": [
              "<Figure size 432x288 with 1 Axes>"
            ]
          },
          "metadata": {
            "tags": [],
            "needs_background": "light"
          }
        }
      ]
    },
    {
      "cell_type": "code",
      "metadata": {
        "id": "fB37e-pHmjAx",
        "colab_type": "code",
        "colab": {
          "base_uri": "https://localhost:8080/",
          "height": 273
        },
        "outputId": "06287936-7197-46fb-bd54-89279f0e085b"
      },
      "source": [
        "# checking if there is any relationship between the cars taken and the cars returned\n",
        "auto_dem = auto_df[['BlueCars_taken_sum', 'BlueCars_returned_sum']]\n",
        "sns.heatmap(auto_dem.corr(),annot=True)\n",
        "plt.show()"
      ],
      "execution_count": null,
      "outputs": [
        {
          "output_type": "display_data",
          "data": {
            "image/png": "[encoded data removed]",
            "text/plain": [
              "<Figure size 432x288 with 2 Axes>"
            ]
          },
          "metadata": {
            "tags": [],
            "needs_background": "light"
          }
        }
      ]
    },
    {
      "cell_type": "code",
      "metadata": {
        "id": "tPlopn9NnT2f",
        "colab_type": "code",
        "colab": {
          "base_uri": "https://localhost:8080/",
          "height": 108
        },
        "outputId": "ef2177b7-9b11-4323-d45e-eef453662351"
      },
      "source": [
        "# Checking the quantity of the relationshp between the cars taken and those returned\n",
        "auto_dem.corr()"
      ],
      "execution_count": null,
      "outputs": [
        {
          "output_type": "execute_result",
          "data": {
            "text/html": [
              "<div>\n",
              "<style scoped>\n",
              "    .dataframe tbody tr th:only-of-type {\n",
              "        vertical-align: middle;\n",
              "    }\n",
              "\n",
              "    .dataframe tbody tr th {\n",
              "        vertical-align: top;\n",
              "    }\n",
              "\n",
              "    .dataframe thead th {\n",
              "        text-align: right;\n",
              "    }\n",
              "</style>\n",
              "<table border=\"1\" class=\"dataframe\">\n",
              "  <thead>\n",
              "    <tr style=\"text-align: right;\">\n",
              "      <th></th>\n",
              "      <th>BlueCars_taken_sum</th>\n",
              "      <th>BlueCars_returned_sum</th>\n",
              "    </tr>\n",
              "  </thead>\n",
              "  <tbody>\n",
              "    <tr>\n",
              "      <th>BlueCars_taken_sum</th>\n",
              "      <td>1.00000</td>\n",
              "      <td>0.99866</td>\n",
              "    </tr>\n",
              "    <tr>\n",
              "      <th>BlueCars_returned_sum</th>\n",
              "      <td>0.99866</td>\n",
              "      <td>1.00000</td>\n",
              "    </tr>\n",
              "  </tbody>\n",
              "</table>\n",
              "</div>"
            ],
            "text/plain": [
              "                       BlueCars_taken_sum  BlueCars_returned_sum\n",
              "BlueCars_taken_sum                1.00000                0.99866\n",
              "BlueCars_returned_sum             0.99866                1.00000"
            ]
          },
          "metadata": {
            "tags": []
          },
          "execution_count": 47
        }
      ]
    },
    {
      "cell_type": "code",
      "metadata": {
        "id": "WuAzag6vqz8S",
        "colab_type": "code",
        "colab": {
          "base_uri": "https://localhost:8080/",
          "height": 393
        },
        "outputId": "c075b377-1d07-41d1-cc4f-3b25d0a69335"
      },
      "source": [
        "sns.heatmap(auto_df.corr(),annot=True)\n",
        "plt.show()"
      ],
      "execution_count": null,
      "outputs": [
        {
          "output_type": "display_data",
          "data": {
            "image/png": "[encoded data removed]",
            "text/plain": [
              "<Figure size 432x288 with 2 Axes>"
            ]
          },
          "metadata": {
            "tags": [],
            "needs_background": "light"
          }
        }
      ]
    },
    {
      "cell_type": "markdown",
      "metadata": {
        "id": "ePtY9X49bEGh",
        "colab_type": "text"
      },
      "source": [
        "**Sampling**"
      ]
    },
    {
      "cell_type": "code",
      "metadata": {
        "id": "yraNSjw8bCWa",
        "colab_type": "code",
        "colab": {
          "base_uri": "https://localhost:8080/",
          "height": 290
        },
        "outputId": "b2eda24b-a688-4326-dabe-58a385cec586"
      },
      "source": [
        "# making a dataframe containing information only for the weekdays\n",
        "weekdays= auto_df.loc[auto_df.Day_Type=='weekday']\n",
        "print(weekdays)\n",
        "print(weekdays.shape)"
      ],
      "execution_count": null,
      "outputs": [
        {
          "output_type": "stream",
          "text": [
            "       Postal_code       Date  ...  BlueCars_returned_sum Month\n",
            "0            75001 2018-01-01  ...                    103     1\n",
            "1            75001 2018-01-02  ...                     94     1\n",
            "2            75001 2018-01-03  ...                    139     1\n",
            "3            75001 2018-01-04  ...                    104     1\n",
            "4            75001 2018-01-05  ...                    117     1\n",
            "...            ...        ...  ...                    ...   ...\n",
            "16078        95880 2018-06-13  ...                     13     6\n",
            "16079        95880 2018-06-14  ...                     13     6\n",
            "16080        95880 2018-06-15  ...                     10     6\n",
            "16083        95880 2018-06-18  ...                     14     6\n",
            "16084        95880 2018-06-19  ...                      2     6\n",
            "\n",
            "[11544 rows x 7 columns]\n",
            "(11544, 7)\n"
          ],
          "name": "stdout"
        }
      ]
    },
    {
      "cell_type": "code",
      "metadata": {
        "id": "sAYw7vcUdL5W",
        "colab_type": "code",
        "colab": {
          "base_uri": "https://localhost:8080/",
          "height": 126
        },
        "outputId": "37b79794-c753-4c73-dbaf-ccf1fe2c8d67"
      },
      "source": [
        "weekdays.Day_Of_Week.value_counts()"
      ],
      "execution_count": null,
      "outputs": [
        {
          "output_type": "execute_result",
          "data": {
            "text/plain": [
              "0    2374\n",
              "1    2363\n",
              "4    2271\n",
              "3    2268\n",
              "2    2268\n",
              "Name: Day_Of_Week, dtype: int64"
            ]
          },
          "metadata": {
            "tags": []
          },
          "execution_count": 71
        }
      ]
    },
    {
      "cell_type": "code",
      "metadata": {
        "id": "1ucd2j7ktO_H",
        "colab_type": "code",
        "colab": {
          "base_uri": "https://localhost:8080/",
          "height": 290
        },
        "outputId": "d33c2427-f88a-47e5-bf83-d609d2fd7996"
      },
      "source": [
        "# creating a data frame containing information for monday only\n",
        "mondays= weekdays.loc[weekdays.Day_Of_Week==0]\n",
        "print(mondays)\n",
        "print(mondays.shape)"
      ],
      "execution_count": null,
      "outputs": [
        {
          "output_type": "stream",
          "text": [
            "       Postal_code       Date  ...  BlueCars_returned_sum Month\n",
            "0            75001 2018-01-01  ...                    103     1\n",
            "7            75001 2018-01-08  ...                     83     1\n",
            "14           75001 2018-01-15  ...                    107     1\n",
            "21           75001 2018-01-22  ...                    116     1\n",
            "28           75001 2018-01-29  ...                     81     1\n",
            "...            ...        ...  ...                    ...   ...\n",
            "16055        95880 2018-05-21  ...                     27     5\n",
            "16062        95880 2018-05-28  ...                      5     5\n",
            "16069        95880 2018-06-04  ...                     13     6\n",
            "16076        95880 2018-06-11  ...                     18     6\n",
            "16083        95880 2018-06-18  ...                     14     6\n",
            "\n",
            "[2374 rows x 7 columns]\n",
            "(2374, 7)\n"
          ],
          "name": "stdout"
        }
      ]
    },
    {
      "cell_type": "code",
      "metadata": {
        "id": "OTPxXrWhuqqX",
        "colab_type": "code",
        "colab": {
          "base_uri": "https://localhost:8080/",
          "height": 198
        },
        "outputId": "96316ba7-9c68-405a-963f-ed8478ec8017"
      },
      "source": [
        "# picking a random sample from the mondays dataframe using the sample function from the mondays dataframe\n",
        "\n",
        "mondays_sample = mondays.sample(n= 331, axis = 0, replace = False) # Simple random sampling\n",
        "mondays_sample.head()"
      ],
      "execution_count": null,
      "outputs": [
        {
          "output_type": "execute_result",
          "data": {
            "text/html": [
              "<div>\n",
              "<style scoped>\n",
              "    .dataframe tbody tr th:only-of-type {\n",
              "        vertical-align: middle;\n",
              "    }\n",
              "\n",
              "    .dataframe tbody tr th {\n",
              "        vertical-align: top;\n",
              "    }\n",
              "\n",
              "    .dataframe thead th {\n",
              "        text-align: right;\n",
              "    }\n",
              "</style>\n",
              "<table border=\"1\" class=\"dataframe\">\n",
              "  <thead>\n",
              "    <tr style=\"text-align: right;\">\n",
              "      <th></th>\n",
              "      <th>Postal_code</th>\n",
              "      <th>Date</th>\n",
              "      <th>Day_Of_Week</th>\n",
              "      <th>Day_Type</th>\n",
              "      <th>BlueCars_taken_sum</th>\n",
              "      <th>BlueCars_returned_sum</th>\n",
              "      <th>Month</th>\n",
              "    </tr>\n",
              "  </thead>\n",
              "  <tbody>\n",
              "    <tr>\n",
              "      <th>5098</th>\n",
              "      <td>92130</td>\n",
              "      <td>2018-04-23</td>\n",
              "      <td>0</td>\n",
              "      <td>weekday</td>\n",
              "      <td>246</td>\n",
              "      <td>203</td>\n",
              "      <td>4</td>\n",
              "    </tr>\n",
              "    <tr>\n",
              "      <th>9009</th>\n",
              "      <td>92400</td>\n",
              "      <td>2018-05-28</td>\n",
              "      <td>0</td>\n",
              "      <td>weekday</td>\n",
              "      <td>97</td>\n",
              "      <td>101</td>\n",
              "      <td>5</td>\n",
              "    </tr>\n",
              "    <tr>\n",
              "      <th>2964</th>\n",
              "      <td>75020</td>\n",
              "      <td>2018-01-01</td>\n",
              "      <td>0</td>\n",
              "      <td>weekday</td>\n",
              "      <td>540</td>\n",
              "      <td>605</td>\n",
              "      <td>1</td>\n",
              "    </tr>\n",
              "    <tr>\n",
              "      <th>15198</th>\n",
              "      <td>94500</td>\n",
              "      <td>2018-02-19</td>\n",
              "      <td>0</td>\n",
              "      <td>weekday</td>\n",
              "      <td>13</td>\n",
              "      <td>12</td>\n",
              "      <td>2</td>\n",
              "    </tr>\n",
              "    <tr>\n",
              "      <th>10027</th>\n",
              "      <td>93100</td>\n",
              "      <td>2018-03-05</td>\n",
              "      <td>0</td>\n",
              "      <td>weekday</td>\n",
              "      <td>110</td>\n",
              "      <td>117</td>\n",
              "      <td>3</td>\n",
              "    </tr>\n",
              "  </tbody>\n",
              "</table>\n",
              "</div>"
            ],
            "text/plain": [
              "       Postal_code       Date  ...  BlueCars_returned_sum Month\n",
              "5098         92130 2018-04-23  ...                    203     4\n",
              "9009         92400 2018-05-28  ...                    101     5\n",
              "2964         75020 2018-01-01  ...                    605     1\n",
              "15198        94500 2018-02-19  ...                     12     2\n",
              "10027        93100 2018-03-05  ...                    117     3\n",
              "\n",
              "[5 rows x 7 columns]"
            ]
          },
          "metadata": {
            "tags": []
          },
          "execution_count": 85
        }
      ]
    },
    {
      "cell_type": "code",
      "metadata": {
        "id": "GV9icfqDuNFh",
        "colab_type": "code",
        "colab": {
          "base_uri": "https://localhost:8080/",
          "height": 290
        },
        "outputId": "1663a3e3-1e2b-4353-9593-d47a342ed32b"
      },
      "source": [
        "fridays= weekdays.loc[weekdays.Day_Of_Week==4]\n",
        "print(fridays)\n",
        "print(fridays.shape)"
      ],
      "execution_count": null,
      "outputs": [
        {
          "output_type": "stream",
          "text": [
            "       Postal_code       Date  ...  BlueCars_returned_sum Month\n",
            "4            75001 2018-01-05  ...                    117     1\n",
            "11           75001 2018-01-12  ...                    127     1\n",
            "18           75001 2018-01-19  ...                    130     1\n",
            "25           75001 2018-01-26  ...                    146     1\n",
            "32           75001 2018-02-02  ...                    147     2\n",
            "...            ...        ...  ...                    ...   ...\n",
            "16049        95880 2018-05-04  ...                     20     5\n",
            "16059        95880 2018-05-25  ...                     10     5\n",
            "16066        95880 2018-06-01  ...                     10     6\n",
            "16073        95880 2018-06-08  ...                      9     6\n",
            "16080        95880 2018-06-15  ...                     10     6\n",
            "\n",
            "[2271 rows x 7 columns]\n",
            "(2271, 7)\n"
          ],
          "name": "stdout"
        }
      ]
    },
    {
      "cell_type": "code",
      "metadata": {
        "id": "o4DIfASSvinC",
        "colab_type": "code",
        "colab": {
          "base_uri": "https://localhost:8080/",
          "height": 198
        },
        "outputId": "02e73a15-2d88-46ac-8ecf-cf839f5cc2ba"
      },
      "source": [
        "# picking a random sample from the fridays dataframe using the sample function from the mondays dataframe\n",
        "\n",
        "fridays_sample = fridays.sample(n= 329, axis = 0, replace = False) # Simple random sampling\n",
        "fridays_sample.head()"
      ],
      "execution_count": null,
      "outputs": [
        {
          "output_type": "execute_result",
          "data": {
            "text/html": [
              "<div>\n",
              "<style scoped>\n",
              "    .dataframe tbody tr th:only-of-type {\n",
              "        vertical-align: middle;\n",
              "    }\n",
              "\n",
              "    .dataframe tbody tr th {\n",
              "        vertical-align: top;\n",
              "    }\n",
              "\n",
              "    .dataframe thead th {\n",
              "        text-align: right;\n",
              "    }\n",
              "</style>\n",
              "<table border=\"1\" class=\"dataframe\">\n",
              "  <thead>\n",
              "    <tr style=\"text-align: right;\">\n",
              "      <th></th>\n",
              "      <th>Postal_code</th>\n",
              "      <th>Date</th>\n",
              "      <th>Day_Of_Week</th>\n",
              "      <th>Day_Type</th>\n",
              "      <th>BlueCars_taken_sum</th>\n",
              "      <th>BlueCars_returned_sum</th>\n",
              "      <th>Month</th>\n",
              "    </tr>\n",
              "  </thead>\n",
              "  <tbody>\n",
              "    <tr>\n",
              "      <th>13429</th>\n",
              "      <td>94110</td>\n",
              "      <td>2018-06-15</td>\n",
              "      <td>4</td>\n",
              "      <td>weekday</td>\n",
              "      <td>41</td>\n",
              "      <td>37</td>\n",
              "      <td>6</td>\n",
              "    </tr>\n",
              "    <tr>\n",
              "      <th>14076</th>\n",
              "      <td>94160</td>\n",
              "      <td>2018-01-19</td>\n",
              "      <td>4</td>\n",
              "      <td>weekday</td>\n",
              "      <td>58</td>\n",
              "      <td>53</td>\n",
              "      <td>1</td>\n",
              "    </tr>\n",
              "    <tr>\n",
              "      <th>9234</th>\n",
              "      <td>92420</td>\n",
              "      <td>2018-02-16</td>\n",
              "      <td>4</td>\n",
              "      <td>weekday</td>\n",
              "      <td>7</td>\n",
              "      <td>7</td>\n",
              "      <td>2</td>\n",
              "    </tr>\n",
              "    <tr>\n",
              "      <th>13741</th>\n",
              "      <td>94130</td>\n",
              "      <td>2018-06-15</td>\n",
              "      <td>4</td>\n",
              "      <td>weekday</td>\n",
              "      <td>71</td>\n",
              "      <td>76</td>\n",
              "      <td>6</td>\n",
              "    </tr>\n",
              "    <tr>\n",
              "      <th>10267</th>\n",
              "      <td>93110</td>\n",
              "      <td>2018-06-08</td>\n",
              "      <td>4</td>\n",
              "      <td>weekday</td>\n",
              "      <td>28</td>\n",
              "      <td>26</td>\n",
              "      <td>6</td>\n",
              "    </tr>\n",
              "  </tbody>\n",
              "</table>\n",
              "</div>"
            ],
            "text/plain": [
              "       Postal_code       Date  ...  BlueCars_returned_sum Month\n",
              "13429        94110 2018-06-15  ...                     37     6\n",
              "14076        94160 2018-01-19  ...                     53     1\n",
              "9234         92420 2018-02-16  ...                      7     2\n",
              "13741        94130 2018-06-15  ...                     76     6\n",
              "10267        93110 2018-06-08  ...                     26     6\n",
              "\n",
              "[5 rows x 7 columns]"
            ]
          },
          "metadata": {
            "tags": []
          },
          "execution_count": 86
        }
      ]
    },
    {
      "cell_type": "markdown",
      "metadata": {
        "id": "Pw748Z23v954",
        "colab_type": "text"
      },
      "source": [
        "**Testing for normality for the samples**"
      ]
    },
    {
      "cell_type": "code",
      "metadata": {
        "id": "CCdb9oGYwFNI",
        "colab_type": "code",
        "colab": {
          "base_uri": "https://localhost:8080/",
          "height": 54
        },
        "outputId": "d6245672-508b-4575-9a00-862f108f39d1"
      },
      "source": [
        "# We will test is the Bluecars Taken on monday\n",
        "\n",
        "stat, p = shapiro(mondays_sample.BlueCars_taken_sum)\n",
        "print('Statistic = %.3f, p = %.3f' % (stat, p))\n",
        "\n",
        "\n",
        "# The confidence interval is defined as alpha\n",
        "alpha = 0.05\n",
        "if p > alpha:\n",
        "  print('The bluecars taken follows a normal distribution')\n",
        "else:\n",
        "  print('The data does not follow a normal distribution')"
      ],
      "execution_count": null,
      "outputs": [
        {
          "output_type": "stream",
          "text": [
            "Statistic = 0.648, p = 0.000\n",
            "The data does not follow a normal distribution\n"
          ],
          "name": "stdout"
        }
      ]
    },
    {
      "cell_type": "code",
      "metadata": {
        "id": "BPlHJxoC3odx",
        "colab_type": "code",
        "colab": {
          "base_uri": "https://localhost:8080/",
          "height": 35
        },
        "outputId": "beda80f9-a908-43e0-c867-7807e152435c"
      },
      "source": [
        "# fitting the sample to become normal\n",
        "norm_samp=norm.fit(mondays_sample.BlueCars_taken_sum)\n",
        "norm_samp\n"
      ],
      "execution_count": null,
      "outputs": [
        {
          "output_type": "execute_result",
          "data": {
            "text/plain": [
              "(114.39577039274924, 172.3928201910089)"
            ]
          },
          "metadata": {
            "tags": []
          },
          "execution_count": 134
        }
      ]
    },
    {
      "cell_type": "code",
      "metadata": {
        "id": "BBhg41XLIict",
        "colab_type": "code",
        "colab": {
          "base_uri": "https://localhost:8080/",
          "height": 678
        },
        "outputId": "4db7e796-5582-454a-f58a-ae377c598015"
      },
      "source": [
        "normal_monday=mondays_sample.loc[(mondays_sample['BlueCars_taken_sum']> norm_samp[0]) &(mondays_sample['BlueCars_taken_sum']< norm_samp[1])]\n",
        "normal_monday"
      ],
      "execution_count": null,
      "outputs": [
        {
          "output_type": "execute_result",
          "data": {
            "text/html": [
              "<div>\n",
              "<style scoped>\n",
              "    .dataframe tbody tr th:only-of-type {\n",
              "        vertical-align: middle;\n",
              "    }\n",
              "\n",
              "    .dataframe tbody tr th {\n",
              "        vertical-align: top;\n",
              "    }\n",
              "\n",
              "    .dataframe thead th {\n",
              "        text-align: right;\n",
              "    }\n",
              "</style>\n",
              "<table border=\"1\" class=\"dataframe\">\n",
              "  <thead>\n",
              "    <tr style=\"text-align: right;\">\n",
              "      <th></th>\n",
              "      <th>Postal_code</th>\n",
              "      <th>Date</th>\n",
              "      <th>Day_Of_Week</th>\n",
              "      <th>Day_Type</th>\n",
              "      <th>BlueCars_taken_sum</th>\n",
              "      <th>BlueCars_returned_sum</th>\n",
              "      <th>Month</th>\n",
              "    </tr>\n",
              "  </thead>\n",
              "  <tbody>\n",
              "    <tr>\n",
              "      <th>5389</th>\n",
              "      <td>92150</td>\n",
              "      <td>2018-04-02</td>\n",
              "      <td>0</td>\n",
              "      <td>weekday</td>\n",
              "      <td>130</td>\n",
              "      <td>127</td>\n",
              "      <td>4</td>\n",
              "    </tr>\n",
              "    <tr>\n",
              "      <th>9469</th>\n",
              "      <td>92500</td>\n",
              "      <td>2018-05-21</td>\n",
              "      <td>0</td>\n",
              "      <td>weekday</td>\n",
              "      <td>139</td>\n",
              "      <td>127</td>\n",
              "      <td>5</td>\n",
              "    </tr>\n",
              "    <tr>\n",
              "      <th>7452</th>\n",
              "      <td>92300</td>\n",
              "      <td>2018-05-07</td>\n",
              "      <td>0</td>\n",
              "      <td>weekday</td>\n",
              "      <td>137</td>\n",
              "      <td>141</td>\n",
              "      <td>5</td>\n",
              "    </tr>\n",
              "    <tr>\n",
              "      <th>4489</th>\n",
              "      <td>92000</td>\n",
              "      <td>2018-05-07</td>\n",
              "      <td>0</td>\n",
              "      <td>weekday</td>\n",
              "      <td>171</td>\n",
              "      <td>168</td>\n",
              "      <td>5</td>\n",
              "    </tr>\n",
              "    <tr>\n",
              "      <th>9632</th>\n",
              "      <td>92600</td>\n",
              "      <td>2018-05-28</td>\n",
              "      <td>0</td>\n",
              "      <td>weekday</td>\n",
              "      <td>145</td>\n",
              "      <td>158</td>\n",
              "      <td>5</td>\n",
              "    </tr>\n",
              "    <tr>\n",
              "      <th>10100</th>\n",
              "      <td>93100</td>\n",
              "      <td>2018-05-28</td>\n",
              "      <td>0</td>\n",
              "      <td>weekday</td>\n",
              "      <td>138</td>\n",
              "      <td>135</td>\n",
              "      <td>5</td>\n",
              "    </tr>\n",
              "    <tr>\n",
              "      <th>535</th>\n",
              "      <td>75004</td>\n",
              "      <td>2018-03-12</td>\n",
              "      <td>0</td>\n",
              "      <td>weekday</td>\n",
              "      <td>156</td>\n",
              "      <td>152</td>\n",
              "      <td>3</td>\n",
              "    </tr>\n",
              "    <tr>\n",
              "      <th>10069</th>\n",
              "      <td>93100</td>\n",
              "      <td>2018-04-16</td>\n",
              "      <td>0</td>\n",
              "      <td>weekday</td>\n",
              "      <td>118</td>\n",
              "      <td>107</td>\n",
              "      <td>4</td>\n",
              "    </tr>\n",
              "    <tr>\n",
              "      <th>9781</th>\n",
              "      <td>92700</td>\n",
              "      <td>2018-05-21</td>\n",
              "      <td>0</td>\n",
              "      <td>weekday</td>\n",
              "      <td>122</td>\n",
              "      <td>126</td>\n",
              "      <td>5</td>\n",
              "    </tr>\n",
              "    <tr>\n",
              "      <th>9995</th>\n",
              "      <td>93100</td>\n",
              "      <td>2018-01-29</td>\n",
              "      <td>0</td>\n",
              "      <td>weekday</td>\n",
              "      <td>119</td>\n",
              "      <td>129</td>\n",
              "      <td>1</td>\n",
              "    </tr>\n",
              "    <tr>\n",
              "      <th>4426</th>\n",
              "      <td>92000</td>\n",
              "      <td>2018-03-05</td>\n",
              "      <td>0</td>\n",
              "      <td>weekday</td>\n",
              "      <td>161</td>\n",
              "      <td>159</td>\n",
              "      <td>3</td>\n",
              "    </tr>\n",
              "    <tr>\n",
              "      <th>7343</th>\n",
              "      <td>92300</td>\n",
              "      <td>2018-01-15</td>\n",
              "      <td>0</td>\n",
              "      <td>weekday</td>\n",
              "      <td>141</td>\n",
              "      <td>138</td>\n",
              "      <td>1</td>\n",
              "    </tr>\n",
              "    <tr>\n",
              "      <th>4454</th>\n",
              "      <td>92000</td>\n",
              "      <td>2018-04-02</td>\n",
              "      <td>0</td>\n",
              "      <td>weekday</td>\n",
              "      <td>116</td>\n",
              "      <td>121</td>\n",
              "      <td>4</td>\n",
              "    </tr>\n",
              "    <tr>\n",
              "      <th>156</th>\n",
              "      <td>75002</td>\n",
              "      <td>2018-01-01</td>\n",
              "      <td>0</td>\n",
              "      <td>weekday</td>\n",
              "      <td>145</td>\n",
              "      <td>138</td>\n",
              "      <td>1</td>\n",
              "    </tr>\n",
              "    <tr>\n",
              "      <th>9778</th>\n",
              "      <td>92700</td>\n",
              "      <td>2018-05-07</td>\n",
              "      <td>0</td>\n",
              "      <td>weekday</td>\n",
              "      <td>156</td>\n",
              "      <td>157</td>\n",
              "      <td>5</td>\n",
              "    </tr>\n",
              "    <tr>\n",
              "      <th>13055</th>\n",
              "      <td>94000</td>\n",
              "      <td>2018-04-02</td>\n",
              "      <td>0</td>\n",
              "      <td>weekday</td>\n",
              "      <td>115</td>\n",
              "      <td>106</td>\n",
              "      <td>4</td>\n",
              "    </tr>\n",
              "    <tr>\n",
              "      <th>7445</th>\n",
              "      <td>92300</td>\n",
              "      <td>2018-04-30</td>\n",
              "      <td>0</td>\n",
              "      <td>weekday</td>\n",
              "      <td>168</td>\n",
              "      <td>169</td>\n",
              "      <td>4</td>\n",
              "    </tr>\n",
              "    <tr>\n",
              "      <th>116</th>\n",
              "      <td>75001</td>\n",
              "      <td>2018-04-30</td>\n",
              "      <td>0</td>\n",
              "      <td>weekday</td>\n",
              "      <td>118</td>\n",
              "      <td>118</td>\n",
              "      <td>4</td>\n",
              "    </tr>\n",
              "    <tr>\n",
              "      <th>9967</th>\n",
              "      <td>93100</td>\n",
              "      <td>2018-01-01</td>\n",
              "      <td>0</td>\n",
              "      <td>weekday</td>\n",
              "      <td>123</td>\n",
              "      <td>126</td>\n",
              "      <td>1</td>\n",
              "    </tr>\n",
              "    <tr>\n",
              "      <th>5417</th>\n",
              "      <td>92150</td>\n",
              "      <td>2018-04-30</td>\n",
              "      <td>0</td>\n",
              "      <td>weekday</td>\n",
              "      <td>139</td>\n",
              "      <td>140</td>\n",
              "      <td>4</td>\n",
              "    </tr>\n",
              "    <tr>\n",
              "      <th>123</th>\n",
              "      <td>75001</td>\n",
              "      <td>2018-05-07</td>\n",
              "      <td>0</td>\n",
              "      <td>weekday</td>\n",
              "      <td>118</td>\n",
              "      <td>115</td>\n",
              "      <td>5</td>\n",
              "    </tr>\n",
              "  </tbody>\n",
              "</table>\n",
              "</div>"
            ],
            "text/plain": [
              "       Postal_code       Date  ...  BlueCars_returned_sum Month\n",
              "5389         92150 2018-04-02  ...                    127     4\n",
              "9469         92500 2018-05-21  ...                    127     5\n",
              "7452         92300 2018-05-07  ...                    141     5\n",
              "4489         92000 2018-05-07  ...                    168     5\n",
              "9632         92600 2018-05-28  ...                    158     5\n",
              "10100        93100 2018-05-28  ...                    135     5\n",
              "535          75004 2018-03-12  ...                    152     3\n",
              "10069        93100 2018-04-16  ...                    107     4\n",
              "9781         92700 2018-05-21  ...                    126     5\n",
              "9995         93100 2018-01-29  ...                    129     1\n",
              "4426         92000 2018-03-05  ...                    159     3\n",
              "7343         92300 2018-01-15  ...                    138     1\n",
              "4454         92000 2018-04-02  ...                    121     4\n",
              "156          75002 2018-01-01  ...                    138     1\n",
              "9778         92700 2018-05-07  ...                    157     5\n",
              "13055        94000 2018-04-02  ...                    106     4\n",
              "7445         92300 2018-04-30  ...                    169     4\n",
              "116          75001 2018-04-30  ...                    118     4\n",
              "9967         93100 2018-01-01  ...                    126     1\n",
              "5417         92150 2018-04-30  ...                    140     4\n",
              "123          75001 2018-05-07  ...                    115     5\n",
              "\n",
              "[21 rows x 7 columns]"
            ]
          },
          "metadata": {
            "tags": []
          },
          "execution_count": 135
        }
      ]
    },
    {
      "cell_type": "code",
      "metadata": {
        "id": "UAgVYB9EJeL9",
        "colab_type": "code",
        "colab": {
          "base_uri": "https://localhost:8080/",
          "height": 35
        },
        "outputId": "23478253-ded6-4ba0-8724-bec7bd8353e5"
      },
      "source": [
        "# getting the shape of the normmalized data means that the t test will be used\n",
        "normal_monday.shape"
      ],
      "execution_count": null,
      "outputs": [
        {
          "output_type": "execute_result",
          "data": {
            "text/plain": [
              "(21, 7)"
            ]
          },
          "metadata": {
            "tags": []
          },
          "execution_count": 136
        }
      ]
    },
    {
      "cell_type": "code",
      "metadata": {
        "id": "ksykzZBS4_uy",
        "colab_type": "code",
        "colab": {
          "base_uri": "https://localhost:8080/",
          "height": 54
        },
        "outputId": "46be601d-f99f-4551-de4d-40e174dc4db3"
      },
      "source": [
        "# # confirming that the normalized data from the monday sample is now normal\n",
        "\n",
        "stat, p = shapiro(normal_monday.BlueCars_taken_sum)\n",
        "print('Statistic = %.3f, p = %.3f' % (stat, p))\n",
        "\n",
        "\n",
        "# The confidence interval is defined as alpha\n",
        "alpha = 0.05\n",
        "if p > alpha:\n",
        "  print('The bluecars taken follows a normal distribution')\n",
        "else:\n",
        "  print('The data does not follow a normal distribution')"
      ],
      "execution_count": null,
      "outputs": [
        {
          "output_type": "stream",
          "text": [
            "Statistic = 0.915, p = 0.070\n",
            "The bluecars taken follows a normal distribution\n"
          ],
          "name": "stdout"
        }
      ]
    },
    {
      "cell_type": "code",
      "metadata": {
        "id": "wvKo-wxUKihJ",
        "colab_type": "code",
        "colab": {
          "base_uri": "https://localhost:8080/",
          "height": 54
        },
        "outputId": "17862850-b5bd-436e-e44e-b71bd9166898"
      },
      "source": [
        "# # confirming that the normalized data from the monday sample is now normal\n",
        "\n",
        "stat, p = shapiro(fridays_sample.BlueCars_taken_sum)\n",
        "print('Statistic = %.3f, p = %.3f' % (stat, p))\n",
        "\n",
        "\n",
        "# The confidence interval is defined as alpha\n",
        "alpha = 0.05\n",
        "if p > alpha:\n",
        "  print('The bluecars taken follows a normal distribution')\n",
        "else:\n",
        "  print('The data does not follow a normal distribution')"
      ],
      "execution_count": null,
      "outputs": [
        {
          "output_type": "stream",
          "text": [
            "Statistic = 0.650, p = 0.000\n",
            "The data does not follow a normal distribution\n"
          ],
          "name": "stdout"
        }
      ]
    },
    {
      "cell_type": "code",
      "metadata": {
        "id": "qLmv72PrKveQ",
        "colab_type": "code",
        "colab": {
          "base_uri": "https://localhost:8080/",
          "height": 35
        },
        "outputId": "a9d8f626-c962-40c1-aff6-de7a76b38a39"
      },
      "source": [
        "# normalizing the fridays sample data frame\n",
        "fri_samp= norm.fit(fridays_sample.BlueCars_taken_sum)\n",
        "fri_samp"
      ],
      "execution_count": null,
      "outputs": [
        {
          "output_type": "execute_result",
          "data": {
            "text/plain": [
              "(132.29179331306992, 197.38574077712295)"
            ]
          },
          "metadata": {
            "tags": []
          },
          "execution_count": 142
        }
      ]
    },
    {
      "cell_type": "code",
      "metadata": {
        "id": "q1bz7N7vLYmr",
        "colab_type": "code",
        "colab": {
          "base_uri": "https://localhost:8080/",
          "height": 828
        },
        "outputId": "b4395431-6b38-453f-f5d1-aed764825927"
      },
      "source": [
        "normal_friday=fridays_sample.loc[(fridays_sample['BlueCars_taken_sum']> fri_samp[0]) &(fridays_sample['BlueCars_taken_sum']< fri_samp[1])]\n",
        "normal_friday"
      ],
      "execution_count": null,
      "outputs": [
        {
          "output_type": "execute_result",
          "data": {
            "text/html": [
              "<div>\n",
              "<style scoped>\n",
              "    .dataframe tbody tr th:only-of-type {\n",
              "        vertical-align: middle;\n",
              "    }\n",
              "\n",
              "    .dataframe tbody tr th {\n",
              "        vertical-align: top;\n",
              "    }\n",
              "\n",
              "    .dataframe thead th {\n",
              "        text-align: right;\n",
              "    }\n",
              "</style>\n",
              "<table border=\"1\" class=\"dataframe\">\n",
              "  <thead>\n",
              "    <tr style=\"text-align: right;\">\n",
              "      <th></th>\n",
              "      <th>Postal_code</th>\n",
              "      <th>Date</th>\n",
              "      <th>Day_Of_Week</th>\n",
              "      <th>Day_Type</th>\n",
              "      <th>BlueCars_taken_sum</th>\n",
              "      <th>BlueCars_returned_sum</th>\n",
              "      <th>Month</th>\n",
              "    </tr>\n",
              "  </thead>\n",
              "  <tbody>\n",
              "    <tr>\n",
              "      <th>337</th>\n",
              "      <td>75003</td>\n",
              "      <td>2018-01-26</td>\n",
              "      <td>4</td>\n",
              "      <td>weekday</td>\n",
              "      <td>191</td>\n",
              "      <td>197</td>\n",
              "      <td>1</td>\n",
              "    </tr>\n",
              "    <tr>\n",
              "      <th>9775</th>\n",
              "      <td>92700</td>\n",
              "      <td>2018-05-04</td>\n",
              "      <td>4</td>\n",
              "      <td>weekday</td>\n",
              "      <td>166</td>\n",
              "      <td>150</td>\n",
              "      <td>5</td>\n",
              "    </tr>\n",
              "    <tr>\n",
              "      <th>151</th>\n",
              "      <td>75001</td>\n",
              "      <td>2018-06-15</td>\n",
              "      <td>4</td>\n",
              "      <td>weekday</td>\n",
              "      <td>150</td>\n",
              "      <td>150</td>\n",
              "      <td>6</td>\n",
              "    </tr>\n",
              "    <tr>\n",
              "      <th>25</th>\n",
              "      <td>75001</td>\n",
              "      <td>2018-01-26</td>\n",
              "      <td>4</td>\n",
              "      <td>weekday</td>\n",
              "      <td>145</td>\n",
              "      <td>146</td>\n",
              "      <td>1</td>\n",
              "    </tr>\n",
              "    <tr>\n",
              "      <th>7459</th>\n",
              "      <td>92300</td>\n",
              "      <td>2018-05-25</td>\n",
              "      <td>4</td>\n",
              "      <td>weekday</td>\n",
              "      <td>161</td>\n",
              "      <td>159</td>\n",
              "      <td>5</td>\n",
              "    </tr>\n",
              "    <tr>\n",
              "      <th>9531</th>\n",
              "      <td>92600</td>\n",
              "      <td>2018-02-02</td>\n",
              "      <td>4</td>\n",
              "      <td>weekday</td>\n",
              "      <td>144</td>\n",
              "      <td>128</td>\n",
              "      <td>2</td>\n",
              "    </tr>\n",
              "    <tr>\n",
              "      <th>4472</th>\n",
              "      <td>92000</td>\n",
              "      <td>2018-04-20</td>\n",
              "      <td>4</td>\n",
              "      <td>weekday</td>\n",
              "      <td>155</td>\n",
              "      <td>163</td>\n",
              "      <td>4</td>\n",
              "    </tr>\n",
              "    <tr>\n",
              "      <th>255</th>\n",
              "      <td>75002</td>\n",
              "      <td>2018-04-13</td>\n",
              "      <td>4</td>\n",
              "      <td>weekday</td>\n",
              "      <td>184</td>\n",
              "      <td>185</td>\n",
              "      <td>4</td>\n",
              "    </tr>\n",
              "    <tr>\n",
              "      <th>9361</th>\n",
              "      <td>92500</td>\n",
              "      <td>2018-01-19</td>\n",
              "      <td>4</td>\n",
              "      <td>weekday</td>\n",
              "      <td>160</td>\n",
              "      <td>156</td>\n",
              "      <td>1</td>\n",
              "    </tr>\n",
              "    <tr>\n",
              "      <th>9503</th>\n",
              "      <td>92600</td>\n",
              "      <td>2018-01-05</td>\n",
              "      <td>4</td>\n",
              "      <td>weekday</td>\n",
              "      <td>143</td>\n",
              "      <td>144</td>\n",
              "      <td>1</td>\n",
              "    </tr>\n",
              "    <tr>\n",
              "      <th>5340</th>\n",
              "      <td>92150</td>\n",
              "      <td>2018-02-09</td>\n",
              "      <td>4</td>\n",
              "      <td>weekday</td>\n",
              "      <td>159</td>\n",
              "      <td>173</td>\n",
              "      <td>2</td>\n",
              "    </tr>\n",
              "    <tr>\n",
              "      <th>4451</th>\n",
              "      <td>92000</td>\n",
              "      <td>2018-03-30</td>\n",
              "      <td>4</td>\n",
              "      <td>weekday</td>\n",
              "      <td>173</td>\n",
              "      <td>155</td>\n",
              "      <td>3</td>\n",
              "    </tr>\n",
              "    <tr>\n",
              "      <th>4465</th>\n",
              "      <td>92000</td>\n",
              "      <td>2018-04-13</td>\n",
              "      <td>4</td>\n",
              "      <td>weekday</td>\n",
              "      <td>178</td>\n",
              "      <td>166</td>\n",
              "      <td>4</td>\n",
              "    </tr>\n",
              "    <tr>\n",
              "      <th>10066</th>\n",
              "      <td>93100</td>\n",
              "      <td>2018-04-13</td>\n",
              "      <td>4</td>\n",
              "      <td>weekday</td>\n",
              "      <td>142</td>\n",
              "      <td>129</td>\n",
              "      <td>4</td>\n",
              "    </tr>\n",
              "    <tr>\n",
              "      <th>4384</th>\n",
              "      <td>92000</td>\n",
              "      <td>2018-01-19</td>\n",
              "      <td>4</td>\n",
              "      <td>weekday</td>\n",
              "      <td>180</td>\n",
              "      <td>179</td>\n",
              "      <td>1</td>\n",
              "    </tr>\n",
              "    <tr>\n",
              "      <th>4444</th>\n",
              "      <td>92000</td>\n",
              "      <td>2018-03-23</td>\n",
              "      <td>4</td>\n",
              "      <td>weekday</td>\n",
              "      <td>160</td>\n",
              "      <td>158</td>\n",
              "      <td>3</td>\n",
              "    </tr>\n",
              "    <tr>\n",
              "      <th>4496</th>\n",
              "      <td>92000</td>\n",
              "      <td>2018-05-25</td>\n",
              "      <td>4</td>\n",
              "      <td>weekday</td>\n",
              "      <td>176</td>\n",
              "      <td>177</td>\n",
              "      <td>5</td>\n",
              "    </tr>\n",
              "    <tr>\n",
              "      <th>5358</th>\n",
              "      <td>92150</td>\n",
              "      <td>2018-03-02</td>\n",
              "      <td>4</td>\n",
              "      <td>weekday</td>\n",
              "      <td>153</td>\n",
              "      <td>140</td>\n",
              "      <td>3</td>\n",
              "    </tr>\n",
              "    <tr>\n",
              "      <th>9524</th>\n",
              "      <td>92600</td>\n",
              "      <td>2018-01-26</td>\n",
              "      <td>4</td>\n",
              "      <td>weekday</td>\n",
              "      <td>147</td>\n",
              "      <td>143</td>\n",
              "      <td>1</td>\n",
              "    </tr>\n",
              "    <tr>\n",
              "      <th>9650</th>\n",
              "      <td>92600</td>\n",
              "      <td>2018-06-15</td>\n",
              "      <td>4</td>\n",
              "      <td>weekday</td>\n",
              "      <td>192</td>\n",
              "      <td>197</td>\n",
              "      <td>6</td>\n",
              "    </tr>\n",
              "    <tr>\n",
              "      <th>53</th>\n",
              "      <td>75001</td>\n",
              "      <td>2018-02-23</td>\n",
              "      <td>4</td>\n",
              "      <td>weekday</td>\n",
              "      <td>135</td>\n",
              "      <td>135</td>\n",
              "      <td>2</td>\n",
              "    </tr>\n",
              "    <tr>\n",
              "      <th>9428</th>\n",
              "      <td>92500</td>\n",
              "      <td>2018-03-30</td>\n",
              "      <td>4</td>\n",
              "      <td>weekday</td>\n",
              "      <td>146</td>\n",
              "      <td>148</td>\n",
              "      <td>3</td>\n",
              "    </tr>\n",
              "    <tr>\n",
              "      <th>195</th>\n",
              "      <td>75002</td>\n",
              "      <td>2018-02-09</td>\n",
              "      <td>4</td>\n",
              "      <td>weekday</td>\n",
              "      <td>158</td>\n",
              "      <td>160</td>\n",
              "      <td>2</td>\n",
              "    </tr>\n",
              "    <tr>\n",
              "      <th>7480</th>\n",
              "      <td>92300</td>\n",
              "      <td>2018-06-15</td>\n",
              "      <td>4</td>\n",
              "      <td>weekday</td>\n",
              "      <td>177</td>\n",
              "      <td>181</td>\n",
              "      <td>6</td>\n",
              "    </tr>\n",
              "    <tr>\n",
              "      <th>7414</th>\n",
              "      <td>92300</td>\n",
              "      <td>2018-03-30</td>\n",
              "      <td>4</td>\n",
              "      <td>weekday</td>\n",
              "      <td>147</td>\n",
              "      <td>143</td>\n",
              "      <td>3</td>\n",
              "    </tr>\n",
              "    <tr>\n",
              "      <th>9435</th>\n",
              "      <td>92500</td>\n",
              "      <td>2018-04-06</td>\n",
              "      <td>4</td>\n",
              "      <td>weekday</td>\n",
              "      <td>140</td>\n",
              "      <td>148</td>\n",
              "      <td>4</td>\n",
              "    </tr>\n",
              "  </tbody>\n",
              "</table>\n",
              "</div>"
            ],
            "text/plain": [
              "       Postal_code       Date  ...  BlueCars_returned_sum Month\n",
              "337          75003 2018-01-26  ...                    197     1\n",
              "9775         92700 2018-05-04  ...                    150     5\n",
              "151          75001 2018-06-15  ...                    150     6\n",
              "25           75001 2018-01-26  ...                    146     1\n",
              "7459         92300 2018-05-25  ...                    159     5\n",
              "9531         92600 2018-02-02  ...                    128     2\n",
              "4472         92000 2018-04-20  ...                    163     4\n",
              "255          75002 2018-04-13  ...                    185     4\n",
              "9361         92500 2018-01-19  ...                    156     1\n",
              "9503         92600 2018-01-05  ...                    144     1\n",
              "5340         92150 2018-02-09  ...                    173     2\n",
              "4451         92000 2018-03-30  ...                    155     3\n",
              "4465         92000 2018-04-13  ...                    166     4\n",
              "10066        93100 2018-04-13  ...                    129     4\n",
              "4384         92000 2018-01-19  ...                    179     1\n",
              "4444         92000 2018-03-23  ...                    158     3\n",
              "4496         92000 2018-05-25  ...                    177     5\n",
              "5358         92150 2018-03-02  ...                    140     3\n",
              "9524         92600 2018-01-26  ...                    143     1\n",
              "9650         92600 2018-06-15  ...                    197     6\n",
              "53           75001 2018-02-23  ...                    135     2\n",
              "9428         92500 2018-03-30  ...                    148     3\n",
              "195          75002 2018-02-09  ...                    160     2\n",
              "7480         92300 2018-06-15  ...                    181     6\n",
              "7414         92300 2018-03-30  ...                    143     3\n",
              "9435         92500 2018-04-06  ...                    148     4\n",
              "\n",
              "[26 rows x 7 columns]"
            ]
          },
          "metadata": {
            "tags": []
          },
          "execution_count": 143
        }
      ]
    },
    {
      "cell_type": "code",
      "metadata": {
        "id": "-oIiMVtrLrjV",
        "colab_type": "code",
        "colab": {
          "base_uri": "https://localhost:8080/",
          "height": 35
        },
        "outputId": "36bccf3a-fc5e-4ead-862f-e5600bfff573"
      },
      "source": [
        "# checking the shape of the normalized sample for fridays\n",
        "normal_friday.shape"
      ],
      "execution_count": null,
      "outputs": [
        {
          "output_type": "execute_result",
          "data": {
            "text/plain": [
              "(26, 7)"
            ]
          },
          "metadata": {
            "tags": []
          },
          "execution_count": 144
        }
      ]
    },
    {
      "cell_type": "code",
      "metadata": {
        "id": "0EopP7YjKpWv",
        "colab_type": "code",
        "colab": {
          "base_uri": "https://localhost:8080/",
          "height": 54
        },
        "outputId": "821e167c-f9c2-4de8-9089-6c37f0a3e9f6"
      },
      "source": [
        "\n",
        "# # confirming that the normalized data from the friday sample is now normal\n",
        "\n",
        "stat, p = shapiro(normal_friday.BlueCars_taken_sum)\n",
        "print('Statistic = %.3f, p = %.3f' % (stat, p))\n",
        "\n",
        "\n",
        "# The confidence interval is defined as alpha\n",
        "alpha = 0.05\n",
        "if p > alpha:\n",
        "  print('The bluecars taken follows a normal distribution')\n",
        "else:\n",
        "  print('The data does not follow a normal distribution')"
      ],
      "execution_count": null,
      "outputs": [
        {
          "output_type": "stream",
          "text": [
            "Statistic = 0.937, p = 0.117\n",
            "The bluecars taken follows a normal distribution\n"
          ],
          "name": "stdout"
        }
      ]
    },
    {
      "cell_type": "markdown",
      "metadata": {
        "id": "Fkh_NDilrwOb",
        "colab_type": "text"
      },
      "source": [
        "**Hypothesis Testing**"
      ]
    },
    {
      "cell_type": "code",
      "metadata": {
        "id": "QBFqg4rfdSwH",
        "colab_type": "code",
        "colab": {
          "base_uri": "https://localhost:8080/",
          "height": 318
        },
        "outputId": "fd4bda01-72d2-4c47-c147-6d2f857766e9"
      },
      "source": [
        "# focus will be on the weekdays\n",
        "\n",
        "# count of blue cars taken ad returned gruped by month\n",
        "auto_df[['Day_Of_Week', 'BlueCars_taken_sum']].groupby('Day_Of_Week').agg(['mean', 'count'])"
      ],
      "execution_count": null,
      "outputs": [
        {
          "output_type": "execute_result",
          "data": {
            "text/html": [
              "<div>\n",
              "<style scoped>\n",
              "    .dataframe tbody tr th:only-of-type {\n",
              "        vertical-align: middle;\n",
              "    }\n",
              "\n",
              "    .dataframe tbody tr th {\n",
              "        vertical-align: top;\n",
              "    }\n",
              "\n",
              "    .dataframe thead tr th {\n",
              "        text-align: left;\n",
              "    }\n",
              "\n",
              "    .dataframe thead tr:last-of-type th {\n",
              "        text-align: right;\n",
              "    }\n",
              "</style>\n",
              "<table border=\"1\" class=\"dataframe\">\n",
              "  <thead>\n",
              "    <tr>\n",
              "      <th></th>\n",
              "      <th colspan=\"2\" halign=\"left\">BlueCars_taken_sum</th>\n",
              "    </tr>\n",
              "    <tr>\n",
              "      <th></th>\n",
              "      <th>mean</th>\n",
              "      <th>count</th>\n",
              "    </tr>\n",
              "    <tr>\n",
              "      <th>Day_Of_Week</th>\n",
              "      <th></th>\n",
              "      <th></th>\n",
              "    </tr>\n",
              "  </thead>\n",
              "  <tbody>\n",
              "    <tr>\n",
              "      <th>0</th>\n",
              "      <td>111.159646</td>\n",
              "      <td>2374</td>\n",
              "    </tr>\n",
              "    <tr>\n",
              "      <th>1</th>\n",
              "      <td>110.850614</td>\n",
              "      <td>2363</td>\n",
              "    </tr>\n",
              "    <tr>\n",
              "      <th>2</th>\n",
              "      <td>115.453704</td>\n",
              "      <td>2268</td>\n",
              "    </tr>\n",
              "    <tr>\n",
              "      <th>3</th>\n",
              "      <td>116.052469</td>\n",
              "      <td>2268</td>\n",
              "    </tr>\n",
              "    <tr>\n",
              "      <th>4</th>\n",
              "      <td>127.056803</td>\n",
              "      <td>2271</td>\n",
              "    </tr>\n",
              "    <tr>\n",
              "      <th>5</th>\n",
              "      <td>156.124393</td>\n",
              "      <td>2267</td>\n",
              "    </tr>\n",
              "    <tr>\n",
              "      <th>6</th>\n",
              "      <td>146.071240</td>\n",
              "      <td>2274</td>\n",
              "    </tr>\n",
              "  </tbody>\n",
              "</table>\n",
              "</div>"
            ],
            "text/plain": [
              "            BlueCars_taken_sum      \n",
              "                          mean count\n",
              "Day_Of_Week                         \n",
              "0                   111.159646  2374\n",
              "1                   110.850614  2363\n",
              "2                   115.453704  2268\n",
              "3                   116.052469  2268\n",
              "4                   127.056803  2271\n",
              "5                   156.124393  2267\n",
              "6                   146.071240  2274"
            ]
          },
          "metadata": {
            "tags": []
          },
          "execution_count": 64
        }
      ]
    },
    {
      "cell_type": "markdown",
      "metadata": {
        "id": "yAc4MBz6P7wd",
        "colab_type": "text"
      },
      "source": [
        "#### Test of Hypothesis\n",
        "\n",
        "---\n",
        "\n",
        "\n",
        "\n",
        ">#### Null Hypothesis\n",
        ">$H_0 : μ_1  = μ_2 $\n",
        ">#### Alternative Hypothesis\n",
        ">$H_1 : μ_1 ≠ μ_2$"
      ]
    },
    {
      "cell_type": "code",
      "metadata": {
        "id": "oqoiPl_hM6zh",
        "colab_type": "code",
        "colab": {
          "base_uri": "https://localhost:8080/",
          "height": 126
        },
        "outputId": "ba497316-8778-4768-c999-3017e3e3292f"
      },
      "source": [
        "# carrying out the hypothesis test between the average number of cars taken on monday and the average number of cars in firday\n",
        "mon_mean = np.mean(normal_monday.BlueCars_taken_sum)\n",
        "fri_mean = np.mean(normal_friday.BlueCars_taken_sum)\n",
        "print(\"monday mean value:\",fri_mean)\n",
        "print(\"friday mean value:\",fri_mean)\n",
        "mon_std = np.std(normal_monday.BlueCars_taken_sum)\n",
        "fri_std = np.std(normal_friday.BlueCars_taken_sum)\n",
        "print(\"monday std value:\",mon_std)\n",
        "print(\"friday std value:\",fri_std)\n",
        "ttest,pval = stats.ttest_ind(normal_monday.BlueCars_taken_sum,normal_friday.BlueCars_taken_sum)\n",
        "print(\"p-value\",pval)\n",
        "if pval <0.05:\n",
        "  print(\"we reject null hypothesis\")\n",
        "else:\n",
        "  print(\"we accept null hypothesis\")"
      ],
      "execution_count": null,
      "outputs": [
        {
          "output_type": "stream",
          "text": [
            "monday mean value: 160.07692307692307\n",
            "friday mean value: 160.07692307692307\n",
            "monday std value: 17.416206907319076\n",
            "friday std value: 16.25262837186905\n",
            "p-value 3.385417246266644e-05\n",
            "we reject null hypothesis\n"
          ],
          "name": "stdout"
        }
      ]
    },
    {
      "cell_type": "code",
      "metadata": {
        "colab_type": "code",
        "id": "VJVHX_jJkxw0",
        "colab": {
          "base_uri": "https://localhost:8080/",
          "height": 126
        },
        "outputId": "8e8fd3bc-db76-48e9-b0f8-f079724ec336"
      },
      "source": [
        "# carrying out the hypothesis test between the average number of cars returned on monday and the average number of cars in firday\n",
        "mon_mean1 = np.mean(normal_monday.BlueCars_returned_sum)\n",
        "fri_mean1 = np.mean(normal_friday.BlueCars_returned_sum)\n",
        "print(\"monday mean value:\",fri_mean1)\n",
        "print(\"friday mean value:\",fri_mean1)\n",
        "mon_std1 = np.std(normal_monday.BlueCars_returned_sum)\n",
        "fri_std1 = np.std(normal_friday.BlueCars_returned_sum)\n",
        "print(\"monday std value:\",mon_std1)\n",
        "print(\"friday std value:\",fri_std1)\n",
        "ttest,pval = stats.ttest_ind(normal_monday.BlueCars_returned_sum,normal_friday.BlueCars_returned_sum)\n",
        "print(\"p-value\",pval)\n",
        "if pval <0.05:\n",
        "  print(\"we reject null hypothesis\")\n",
        "else:\n",
        "  print(\"we accept null hypothesis\")"
      ],
      "execution_count": 156,
      "outputs": [
        {
          "output_type": "stream",
          "text": [
            "monday mean value: 158.07692307692307\n",
            "friday mean value: 158.07692307692307\n",
            "monday std value: 18.276907601504224\n",
            "friday std value: 18.755354265101673\n",
            "p-value 0.0002624278632689804\n",
            "we reject null hypothesis\n"
          ],
          "name": "stdout"
        }
      ]
    }
  ]
}